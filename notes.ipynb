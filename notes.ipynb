{
 "cells": [
  {
   "cell_type": "markdown",
   "id": "6a67c2d7",
   "metadata": {},
   "source": [
    "### Pipelines\n",
    "These are extremely useful tools that offer quick and consistent data transformations and model training.\n",
    "\n",
    "Once you try and test different steps in a data science workflow, pipelines allow you to intergrate all the steps done from preprocessing with python libraries, preprocessing with custom classes to modelling easily. All the steps are bundled into one instance of the pipeline Class without the hassle of data leakage.\n"
   ]
  },
  {
   "cell_type": "code",
   "execution_count": 4,
   "id": "64cfc185",
   "metadata": {},
   "outputs": [],
   "source": [
    "import os\n",
    "os.environ['LOKY_MAX_CPU_COUNT'] = '4'\n"
   ]
  },
  {
   "cell_type": "code",
   "execution_count": 7,
   "id": "32e810d4",
   "metadata": {},
   "outputs": [
    {
     "name": "stdout",
     "output_type": "stream",
     "text": [
      "Logical cores: 8\n",
      "Physical cores: 4\n",
      "CPU times: total: 0 ns\n",
      "Wall time: 2.01 ms\n"
     ]
    }
   ],
   "source": [
    "%%time\n",
    "import psutil\n",
    "\n",
    "# Logical cores (includes hyperthreading)\n",
    "logical_cores = psutil.cpu_count(logical=True)\n",
    "\n",
    "# Physical cores (real cores)\n",
    "physical_cores = psutil.cpu_count(logical=False)\n",
    "\n",
    "print(f\"Logical cores: {logical_cores}\")\n",
    "print(f\"Physical cores: {physical_cores}\")\n"
   ]
  },
  {
   "cell_type": "code",
   "execution_count": 8,
   "id": "eff448ff",
   "metadata": {},
   "outputs": [
    {
     "data": {
      "image/png": "[encoded data removed]",
      "text/plain": [
       "<Figure size 800x400 with 2 Axes>"
      ]
     },
     "metadata": {},
     "output_type": "display_data"
    },
    {
     "name": "stdout",
     "output_type": "stream",
     "text": [
      "CPU times: total: 938 ms\n",
      "Wall time: 426 ms\n"
     ]
    }
   ],
   "source": [
    "%%time\n",
    "import pandas as pd \n",
    "import numpy as np\n",
    "import matplotlib.pyplot as plt \n",
    "import seaborn as sns\n",
    "\n",
    "from sklearn.pipeline import Pipeline\n",
    "from sklearn.preprocessing import LabelEncoder, StandardScaler\n",
    "from sklearn.model_selection import train_test_split\n",
    "from category_encoders import MEstimateEncoder\n",
    "from sklearn.metrics import confusion_matrix, ConfusionMatrixDisplay\n",
    "from sklearn.neighbors import KNeighborsClassifier\n",
    "\n",
    "#instantiation.\n",
    "me = MEstimateEncoder(cols='state')\n",
    "le = LabelEncoder()\n",
    "scaler = StandardScaler()\n",
    "knn = KNeighborsClassifier(n_neighbors=7)\n",
    "\n",
    "df = pd.read_csv('./data/churn.csv')\n",
    "\n",
    "df = df.drop('phone number', axis=1)\n",
    "\n",
    "df['churn'] = df['churn'].astype(int)\n",
    "\n",
    "\n",
    "\n",
    "object_columns = ['international plan', 'voice mail plan']\n",
    "\n",
    "\n",
    "for col in object_columns:\n",
    "    df[col] = le.fit_transform(df[col])\n",
    "\n",
    "\n",
    "X = df.drop('churn', axis=1)\n",
    "y = df['churn']\n",
    "\n",
    "\n",
    "\n",
    "X_train, X_test, y_train, y_test = train_test_split(X, y, test_size=0.2, random_state=42)\n",
    "\n",
    "\n",
    "pipe = Pipeline([\n",
    "    ('MEncoder', me),\n",
    "    ('scaler', scaler),\n",
    "    ('knn', knn)\n",
    "])\n",
    "\n",
    "\n",
    "pipe.fit(X_train, y_train)\n",
    "\n",
    "y_preds = pipe.predict(X_test)\n",
    "\n",
    "cm = confusion_matrix(y_test, y_preds)\n",
    "\n",
    "plt.figure(figsize=(8, 4))\n",
    "sns.heatmap(cm, annot=True, fmt='d', cmap='Blues', xticklabels=['No churn', 'churn'], yticklabels=['No churn', 'churn'])\n",
    "plt.title('Confusion matrix')\n",
    "plt.show()"
   ]
  },
  {
   "cell_type": "markdown",
   "id": "94af6520",
   "metadata": {},
   "source": [
    "### Hyperparameter Tuning\n",
    "Non-parametric algorithms such as KNN and Decision Trees come with a some parameters that you can tweak when instantiating them. These are what are referred to as hyperparameters and changing them can come as an improvement or cost to the model itself.\n",
    "\n",
    "KNN comes with 6 hyperparameters each affecting the model in its own way.\n",
    "\n",
    "* `n_neighbors` which is the number of neighbors to consider for classification and it defaults to 5.\n",
    "\n",
    "- `metric` this is a distance metric and affects how the distance between values is calculated('euclidean', 'manhattan', 'minkowski')\n",
    "\n",
    "- `weights` this is a weight function used in prediction ie 'uniform' where equal weight is given to all neighbors and 'distance' where closer neighbors influence more.\n",
    "\n",
    "- `p` this one is to be set when you choose the minkowski distance 1 = manhattan and 2 = euclidean\n",
    "\n",
    "- `algorithm` affects speed/performance(large datasets); 'ball_tree', 'kd_tree', 'auto'(default)\n",
    "\n",
    "- `leaf_size` if you choose kd_tree then this influences the leaf size(lower size = faster)\n",
    "\n",
    "\n",
    "Better guide for the algorithm:\n",
    "| Algorithm   | Description                                                                                          | Best Use Cases                                                                                                                                           |\n",
    "| ----------- | ---------------------------------------------------------------------------------------------------- | -------------------------------------------------------------------------------------------------------------------------------------------------------- |\n",
    "| `auto`      | Automatically selects the best algorithm based on the data provided.                                 | Default choice. Automatically chooses between `'ball_tree'`, `'kd_tree'`, and `'brute'`. Suitable for most datasets.                                     |\n",
    "| `ball_tree` | A tree-based algorithm that organizes data into a binary tree structure for efficient querying.      | Large datasets with a high number of features. Excellent for complex, high-dimensional data.                                                             |\n",
    "| `kd_tree`   | A tree-based algorithm similar to `ball_tree` but designed for data that can be partitioned by axis. | Medium to large datasets with relatively lower dimensions (e.g., ≤ 20 features). Generally faster than `ball_tree` on low-dimensional data.              |\n",
    "| `brute`     | A brute-force method that compares all points in the dataset.                                        | Small to moderate-sized datasets where memory and computation time aren't major concerns. Best used when there are few features or the dataset is small. |\n",
    "\n",
    "\n",
    "With numerous combinations of hyperparameters to be tuned, we needed a clean and optimal way of writing that code, so here is where **GridsearchCV** comes in.\n",
    "\n",
    "It allows us to tune possible combinations of the hyperparameters and finds the best one."
   ]
  },
  {
   "cell_type": "code",
   "execution_count": null,
   "id": "180ce923",
   "metadata": {},
   "outputs": [],
   "source": []
  },
  {
   "cell_type": "markdown",
   "id": "ce88f08f",
   "metadata": {},
   "source": [
    "As a bonus you can use the **crossvalidation** within gridsearch by specifying the `cv` parameter.\n",
    "\n",
    "##### Drawbacks\n",
    "- Time consuming\n",
    "- Need to be good at specifying the hyperparameters\n",
    "- Not a guarantee to improved performance.\n",
    "\n",
    "This is how we employ both gridsearch and pipelines for optimized and clean code."
   ]
  },
  {
   "cell_type": "code",
   "execution_count": 2,
   "id": "b33db214",
   "metadata": {},
   "outputs": [],
   "source": [
    "###code here\n",
    "\n"
   ]
  },
  {
   "cell_type": "markdown",
   "id": "63b497dd",
   "metadata": {},
   "source": [
    "#### Ensemble Methods.\n",
    "Ensemble methods are a way to stack poor performing models ontop of each other to improve the predictive performance by reducing bias, variance(sometimes both). \n",
    "\n",
    "The aggregation of the several models produced make the final prediction more robust and accurate. A good example of this is **Decision Trees**, which is made up of a lot of decision trees and only the best one is chosen as the final one. \n",
    "\n",
    "There are two ways of doing ensemble learning:\n",
    "- **Bootstrapping** - training multiple models on randomised subsets of the data with replacement then prediction is done by finding the average/voting on the models. (example, Random forest)\n",
    "- **Boosting** - sequential training of models with a focus on errors made by previous one."
   ]
  },
  {
   "cell_type": "markdown",
   "id": "d1851fd3",
   "metadata": {},
   "source": []
  }
 ],
 "metadata": {
  "kernelspec": {
   "display_name": "xBase",
   "language": "python",
   "name": "python3"
  },
  "language_info": {
   "codemirror_mode": {
    "name": "ipython",
    "version": 3
   },
   "file_extension": ".py",
   "mimetype": "text/x-python",
   "name": "python",
   "nbconvert_exporter": "python",
   "pygments_lexer": "ipython3",
   "version": "3.12.7"
  }
 },
 "nbformat": 4,
 "nbformat_minor": 5
}
