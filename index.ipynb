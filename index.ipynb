{
 "cells": [
  {
   "cell_type": "markdown",
   "id": "17cf10c9",
   "metadata": {},
   "source": [
    "### Can We Predict Who Leaves? A KNN Approach to Churn\n",
    "#### Project Overview\n",
    "The project's focus is to train a machine learning model capable of flagging customers who are at risk of churning. The aim of the model is to help the company's customer support team to better direct their efforts in terms of customer retention."
   ]
  },
  {
   "cell_type": "markdown",
   "id": "3e9c35cb",
   "metadata": {},
   "source": [
    "#### Background Information\n",
    "Customer churn is a major challenge for telecom companies like Syriatel; predicting churn reduces revenue loss by allowing them to take preventive measures like offering promotions or resolving service issues. We aim to use customer data collected by Syriatel to generate patterns associated with customer churn and build a model to flag at-risk customers.\n",
    "\n",
    "By analysing these patterns, we aim to identify which features are strong indicators of churn. The model will also help evaluate how distance metrics and different values of k affect prediction accuracy, guiding both technical improvements and customer retention strategies."
   ]
  },
  {
   "cell_type": "markdown",
   "id": "74f9c28c",
   "metadata": {},
   "source": [
    "#### Challenges\n",
    "1. Imbalance Dataset.\n",
    "2. Inconsistent scales present in some columns.\n",
    "\n",
    "#### Solutions\n",
    "1. Employ resampling techniques to address the imbalance.\n",
    "2. Transform columns using Standard Scaling and Min max scaling to help in modelling stage."
   ]
  },
  {
   "cell_type": "markdown",
   "id": "1f2fd07f",
   "metadata": {},
   "source": [
    "## Problem Statement\n",
    "Syriatel faces unpredictable customer churn, that impacts revenue and market share. (**Assumption**)Despite heavy investment in marketing and acquisition, customers leave without warning. In order to identify at-risk customers early, this project will use existing data; usage patterns, subscriptions, and service interactions. All with an aim of early intervention for retention of the customer.\n",
    "\n",
    "### Objectives\n",
    "1. Understanding how usage patterns affect customer churn.\n",
    "2. Factors that cause customer dissatisfaction.\n",
    "3. Building a model to flag high-risk customers."
   ]
  },
  {
   "cell_type": "code",
   "execution_count": 5,
   "id": "a0ffae94",
   "metadata": {},
   "outputs": [
    {
     "name": "stdout",
     "output_type": "stream",
     "text": [
      "<class 'pandas.core.frame.DataFrame'>\n",
      "RangeIndex: 3333 entries, 0 to 3332\n",
      "Data columns (total 21 columns):\n",
      " #   Column                  Non-Null Count  Dtype  \n",
      "---  ------                  --------------  -----  \n",
      " 0   state                   3333 non-null   object \n",
      " 1   account length          3333 non-null   int64  \n",
      " 2   area code               3333 non-null   int64  \n",
      " 3   phone number            3333 non-null   object \n",
      " 4   international plan      3333 non-null   object \n",
      " 5   voice mail plan         3333 non-null   object \n",
      " 6   number vmail messages   3333 non-null   int64  \n",
      " 7   total day minutes       3333 non-null   float64\n",
      " 8   total day calls         3333 non-null   int64  \n",
      " 9   total day charge        3333 non-null   float64\n",
      " 10  total eve minutes       3333 non-null   float64\n",
      " 11  total eve calls         3333 non-null   int64  \n",
      " 12  total eve charge        3333 non-null   float64\n",
      " 13  total night minutes     3333 non-null   float64\n",
      " 14  total night calls       3333 non-null   int64  \n",
      " 15  total night charge      3333 non-null   float64\n",
      " 16  total intl minutes      3333 non-null   float64\n",
      " 17  total intl calls        3333 non-null   int64  \n",
      " 18  total intl charge       3333 non-null   float64\n",
      " 19  customer service calls  3333 non-null   int64  \n",
      " 20  churn                   3333 non-null   bool   \n",
      "dtypes: bool(1), float64(8), int64(8), object(4)\n",
      "memory usage: 524.2+ KB\n"
     ]
    }
   ],
   "source": [
    "import pandas as pd \n",
    "import numpy as np \n",
    "import matplotlib.pyplot as plt\n",
    "import seaborn as sns\n",
    "\n",
    "df = pd.read_csv('./data/churn.csv')\n",
    "df.info()"
   ]
  },
  {
   "cell_type": "markdown",
   "id": "5be63976",
   "metadata": {},
   "source": [
    "Displaying the first five rows of the data to get a feel of how it looks."
   ]
  },
  {
   "cell_type": "code",
   "execution_count": 6,
   "id": "0ae3c4b0",
   "metadata": {},
   "outputs": [
    {
     "data": {
      "application/vnd.microsoft.datawrangler.viewer.v0+json": {
       "columns": [
        {
         "name": "index",
         "rawType": "int64",
         "type": "integer"
        },
        {
         "name": "state",
         "rawType": "object",
         "type": "string"
        },
        {
         "name": "account length",
         "rawType": "int64",
         "type": "integer"
        },
        {
         "name": "area code",
         "rawType": "int64",
         "type": "integer"
        },
        {
         "name": "phone number",
         "rawType": "object",
         "type": "string"
        },
        {
         "name": "international plan",
         "rawType": "object",
         "type": "string"
        },
        {
         "name": "voice mail plan",
         "rawType": "object",
         "type": "string"
        },
        {
         "name": "number vmail messages",
         "rawType": "int64",
         "type": "integer"
        },
        {
         "name": "total day minutes",
         "rawType": "float64",
         "type": "float"
        },
        {
         "name": "total day calls",
         "rawType": "int64",
         "type": "integer"
        },
        {
         "name": "total day charge",
         "rawType": "float64",
         "type": "float"
        },
        {
         "name": "total eve minutes",
         "rawType": "float64",
         "type": "float"
        },
        {
         "name": "total eve calls",
         "rawType": "int64",
         "type": "integer"
        },
        {
         "name": "total eve charge",
         "rawType": "float64",
         "type": "float"
        },
        {
         "name": "total night minutes",
         "rawType": "float64",
         "type": "float"
        },
        {
         "name": "total night calls",
         "rawType": "int64",
         "type": "integer"
        },
        {
         "name": "total night charge",
         "rawType": "float64",
         "type": "float"
        },
        {
         "name": "total intl minutes",
         "rawType": "float64",
         "type": "float"
        },
        {
         "name": "total intl calls",
         "rawType": "int64",
         "type": "integer"
        },
        {
         "name": "total intl charge",
         "rawType": "float64",
         "type": "float"
        },
        {
         "name": "customer service calls",
         "rawType": "int64",
         "type": "integer"
        },
        {
         "name": "churn",
         "rawType": "bool",
         "type": "boolean"
        }
       ],
       "conversionMethod": "pd.DataFrame",
       "ref": "44a95c4e-fa57-45fc-bb79-319818847b93",
       "rows": [
        [
         "0",
         "KS",
         "128",
         "415",
         "382-4657",
         "no",
         "yes",
         "25",
         "265.1",
         "110",
         "45.07",
         "197.4",
         "99",
         "16.78",
         "244.7",
         "91",
         "11.01",
         "10.0",
         "3",
         "2.7",
         "1",
         "False"
        ],
        [
         "1",
         "OH",
         "107",
         "415",
         "371-7191",
         "no",
         "yes",
         "26",
         "161.6",
         "123",
         "27.47",
         "195.5",
         "103",
         "16.62",
         "254.4",
         "103",
         "11.45",
         "13.7",
         "3",
         "3.7",
         "1",
         "False"
        ],
        [
         "2",
         "NJ",
         "137",
         "415",
         "358-1921",
         "no",
         "no",
         "0",
         "243.4",
         "114",
         "41.38",
         "121.2",
         "110",
         "10.3",
         "162.6",
         "104",
         "7.32",
         "12.2",
         "5",
         "3.29",
         "0",
         "False"
        ],
        [
         "3",
         "OH",
         "84",
         "408",
         "375-9999",
         "yes",
         "no",
         "0",
         "299.4",
         "71",
         "50.9",
         "61.9",
         "88",
         "5.26",
         "196.9",
         "89",
         "8.86",
         "6.6",
         "7",
         "1.78",
         "2",
         "False"
        ],
        [
         "4",
         "OK",
         "75",
         "415",
         "330-6626",
         "yes",
         "no",
         "0",
         "166.7",
         "113",
         "28.34",
         "148.3",
         "122",
         "12.61",
         "186.9",
         "121",
         "8.41",
         "10.1",
         "3",
         "2.73",
         "3",
         "False"
        ]
       ],
       "shape": {
        "columns": 21,
        "rows": 5
       }
      },
      "text/html": [
       "<div>\n",
       "<style scoped>\n",
       "    .dataframe tbody tr th:only-of-type {\n",
       "        vertical-align: middle;\n",
       "    }\n",
       "\n",
       "    .dataframe tbody tr th {\n",
       "        vertical-align: top;\n",
       "    }\n",
       "\n",
       "    .dataframe thead th {\n",
       "        text-align: right;\n",
       "    }\n",
       "</style>\n",
       "<table border=\"1\" class=\"dataframe\">\n",
       "  <thead>\n",
       "    <tr style=\"text-align: right;\">\n",
       "      <th></th>\n",
       "      <th>state</th>\n",
       "      <th>account length</th>\n",
       "      <th>area code</th>\n",
       "      <th>phone number</th>\n",
       "      <th>international plan</th>\n",
       "      <th>voice mail plan</th>\n",
       "      <th>number vmail messages</th>\n",
       "      <th>total day minutes</th>\n",
       "      <th>total day calls</th>\n",
       "      <th>total day charge</th>\n",
       "      <th>...</th>\n",
       "      <th>total eve calls</th>\n",
       "      <th>total eve charge</th>\n",
       "      <th>total night minutes</th>\n",
       "      <th>total night calls</th>\n",
       "      <th>total night charge</th>\n",
       "      <th>total intl minutes</th>\n",
       "      <th>total intl calls</th>\n",
       "      <th>total intl charge</th>\n",
       "      <th>customer service calls</th>\n",
       "      <th>churn</th>\n",
       "    </tr>\n",
       "  </thead>\n",
       "  <tbody>\n",
       "    <tr>\n",
       "      <th>0</th>\n",
       "      <td>KS</td>\n",
       "      <td>128</td>\n",
       "      <td>415</td>\n",
       "      <td>382-4657</td>\n",
       "      <td>no</td>\n",
       "      <td>yes</td>\n",
       "      <td>25</td>\n",
       "      <td>265.1</td>\n",
       "      <td>110</td>\n",
       "      <td>45.07</td>\n",
       "      <td>...</td>\n",
       "      <td>99</td>\n",
       "      <td>16.78</td>\n",
       "      <td>244.7</td>\n",
       "      <td>91</td>\n",
       "      <td>11.01</td>\n",
       "      <td>10.0</td>\n",
       "      <td>3</td>\n",
       "      <td>2.70</td>\n",
       "      <td>1</td>\n",
       "      <td>False</td>\n",
       "    </tr>\n",
       "    <tr>\n",
       "      <th>1</th>\n",
       "      <td>OH</td>\n",
       "      <td>107</td>\n",
       "      <td>415</td>\n",
       "      <td>371-7191</td>\n",
       "      <td>no</td>\n",
       "      <td>yes</td>\n",
       "      <td>26</td>\n",
       "      <td>161.6</td>\n",
       "      <td>123</td>\n",
       "      <td>27.47</td>\n",
       "      <td>...</td>\n",
       "      <td>103</td>\n",
       "      <td>16.62</td>\n",
       "      <td>254.4</td>\n",
       "      <td>103</td>\n",
       "      <td>11.45</td>\n",
       "      <td>13.7</td>\n",
       "      <td>3</td>\n",
       "      <td>3.70</td>\n",
       "      <td>1</td>\n",
       "      <td>False</td>\n",
       "    </tr>\n",
       "    <tr>\n",
       "      <th>2</th>\n",
       "      <td>NJ</td>\n",
       "      <td>137</td>\n",
       "      <td>415</td>\n",
       "      <td>358-1921</td>\n",
       "      <td>no</td>\n",
       "      <td>no</td>\n",
       "      <td>0</td>\n",
       "      <td>243.4</td>\n",
       "      <td>114</td>\n",
       "      <td>41.38</td>\n",
       "      <td>...</td>\n",
       "      <td>110</td>\n",
       "      <td>10.30</td>\n",
       "      <td>162.6</td>\n",
       "      <td>104</td>\n",
       "      <td>7.32</td>\n",
       "      <td>12.2</td>\n",
       "      <td>5</td>\n",
       "      <td>3.29</td>\n",
       "      <td>0</td>\n",
       "      <td>False</td>\n",
       "    </tr>\n",
       "    <tr>\n",
       "      <th>3</th>\n",
       "      <td>OH</td>\n",
       "      <td>84</td>\n",
       "      <td>408</td>\n",
       "      <td>375-9999</td>\n",
       "      <td>yes</td>\n",
       "      <td>no</td>\n",
       "      <td>0</td>\n",
       "      <td>299.4</td>\n",
       "      <td>71</td>\n",
       "      <td>50.90</td>\n",
       "      <td>...</td>\n",
       "      <td>88</td>\n",
       "      <td>5.26</td>\n",
       "      <td>196.9</td>\n",
       "      <td>89</td>\n",
       "      <td>8.86</td>\n",
       "      <td>6.6</td>\n",
       "      <td>7</td>\n",
       "      <td>1.78</td>\n",
       "      <td>2</td>\n",
       "      <td>False</td>\n",
       "    </tr>\n",
       "    <tr>\n",
       "      <th>4</th>\n",
       "      <td>OK</td>\n",
       "      <td>75</td>\n",
       "      <td>415</td>\n",
       "      <td>330-6626</td>\n",
       "      <td>yes</td>\n",
       "      <td>no</td>\n",
       "      <td>0</td>\n",
       "      <td>166.7</td>\n",
       "      <td>113</td>\n",
       "      <td>28.34</td>\n",
       "      <td>...</td>\n",
       "      <td>122</td>\n",
       "      <td>12.61</td>\n",
       "      <td>186.9</td>\n",
       "      <td>121</td>\n",
       "      <td>8.41</td>\n",
       "      <td>10.1</td>\n",
       "      <td>3</td>\n",
       "      <td>2.73</td>\n",
       "      <td>3</td>\n",
       "      <td>False</td>\n",
       "    </tr>\n",
       "  </tbody>\n",
       "</table>\n",
       "<p>5 rows × 21 columns</p>\n",
       "</div>"
      ],
      "text/plain": [
       "  state  account length  area code phone number international plan  \\\n",
       "0    KS             128        415     382-4657                 no   \n",
       "1    OH             107        415     371-7191                 no   \n",
       "2    NJ             137        415     358-1921                 no   \n",
       "3    OH              84        408     375-9999                yes   \n",
       "4    OK              75        415     330-6626                yes   \n",
       "\n",
       "  voice mail plan  number vmail messages  total day minutes  total day calls  \\\n",
       "0             yes                     25              265.1              110   \n",
       "1             yes                     26              161.6              123   \n",
       "2              no                      0              243.4              114   \n",
       "3              no                      0              299.4               71   \n",
       "4              no                      0              166.7              113   \n",
       "\n",
       "   total day charge  ...  total eve calls  total eve charge  \\\n",
       "0             45.07  ...               99             16.78   \n",
       "1             27.47  ...              103             16.62   \n",
       "2             41.38  ...              110             10.30   \n",
       "3             50.90  ...               88              5.26   \n",
       "4             28.34  ...              122             12.61   \n",
       "\n",
       "   total night minutes  total night calls  total night charge  \\\n",
       "0                244.7                 91               11.01   \n",
       "1                254.4                103               11.45   \n",
       "2                162.6                104                7.32   \n",
       "3                196.9                 89                8.86   \n",
       "4                186.9                121                8.41   \n",
       "\n",
       "   total intl minutes  total intl calls  total intl charge  \\\n",
       "0                10.0                 3               2.70   \n",
       "1                13.7                 3               3.70   \n",
       "2                12.2                 5               3.29   \n",
       "3                 6.6                 7               1.78   \n",
       "4                10.1                 3               2.73   \n",
       "\n",
       "   customer service calls  churn  \n",
       "0                       1  False  \n",
       "1                       1  False  \n",
       "2                       0  False  \n",
       "3                       2  False  \n",
       "4                       3  False  \n",
       "\n",
       "[5 rows x 21 columns]"
      ]
     },
     "execution_count": 6,
     "metadata": {},
     "output_type": "execute_result"
    }
   ],
   "source": [
    "df.head()"
   ]
  },
  {
   "cell_type": "markdown",
   "id": "2409bbff",
   "metadata": {},
   "source": [
    "rows and columns"
   ]
  },
  {
   "cell_type": "code",
   "execution_count": null,
   "id": "76c5d624",
   "metadata": {},
   "outputs": [
    {
     "name": "stdout",
     "output_type": "stream",
     "text": [
      "(3333, 21), \n",
      "Index(['state', 'account length', 'area code', 'phone number',\n",
      "       'international plan', 'voice mail plan', 'number vmail messages',\n",
      "       'total day minutes', 'total day calls', 'total day charge',\n",
      "       'total eve minutes', 'total eve calls', 'total eve charge',\n",
      "       'total night minutes', 'total night calls', 'total night charge',\n",
      "       'total intl minutes', 'total intl calls', 'total intl charge',\n",
      "       'customer service calls', 'churn'],\n",
      "      dtype='object')\n"
     ]
    }
   ],
   "source": [
    "print(f'{df.shape}, \\n{df.columns}')"
   ]
  },
  {
   "cell_type": "markdown",
   "id": "f3eb5ef2",
   "metadata": {},
   "source": [
    "### EDA\n",
    "We'll take a look at the distribution of the columns within the data, check if there is any discrepancies and outliers to address, then move into the modelling phase."
   ]
  },
  {
   "cell_type": "code",
   "execution_count": 10,
   "id": "5ebd6e56",
   "metadata": {},
   "outputs": [
    {
     "name": "stdout",
     "output_type": "stream",
     "text": [
      "<class 'pandas.core.frame.DataFrame'>\n",
      "RangeIndex: 3333 entries, 0 to 3332\n",
      "Data columns (total 20 columns):\n",
      " #   Column                  Non-Null Count  Dtype  \n",
      "---  ------                  --------------  -----  \n",
      " 0   account length          3333 non-null   int64  \n",
      " 1   area code               3333 non-null   int64  \n",
      " 2   phone number            3333 non-null   object \n",
      " 3   international plan      3333 non-null   object \n",
      " 4   voice mail plan         3333 non-null   object \n",
      " 5   number vmail messages   3333 non-null   int64  \n",
      " 6   total day minutes       3333 non-null   float64\n",
      " 7   total day calls         3333 non-null   int64  \n",
      " 8   total day charge        3333 non-null   float64\n",
      " 9   total eve minutes       3333 non-null   float64\n",
      " 10  total eve calls         3333 non-null   int64  \n",
      " 11  total eve charge        3333 non-null   float64\n",
      " 12  total night minutes     3333 non-null   float64\n",
      " 13  total night calls       3333 non-null   int64  \n",
      " 14  total night charge      3333 non-null   float64\n",
      " 15  total intl minutes      3333 non-null   float64\n",
      " 16  total intl calls        3333 non-null   int64  \n",
      " 17  total intl charge       3333 non-null   float64\n",
      " 18  customer service calls  3333 non-null   int64  \n",
      " 19  churn                   3333 non-null   bool   \n",
      "dtypes: bool(1), float64(8), int64(8), object(3)\n",
      "memory usage: 498.1+ KB\n"
     ]
    }
   ],
   "source": [
    "df_copy = df.drop('state', axis=1)\n",
    "\n",
    "df_copy.info()"
   ]
  },
  {
   "cell_type": "markdown",
   "id": "98efd6a9",
   "metadata": {},
   "source": [
    "Initial column transformation for use in the EDA process."
   ]
  },
  {
   "cell_type": "code",
   "execution_count": null,
   "id": "1470e5c4",
   "metadata": {},
   "outputs": [
    {
     "name": "stdout",
     "output_type": "stream",
     "text": [
      "<class 'pandas.core.frame.DataFrame'>\n",
      "RangeIndex: 3333 entries, 0 to 3332\n",
      "Data columns (total 20 columns):\n",
      " #   Column                  Non-Null Count  Dtype  \n",
      "---  ------                  --------------  -----  \n",
      " 0   account length          3333 non-null   int64  \n",
      " 1   area code               3333 non-null   int64  \n",
      " 2   phone number            3333 non-null   int64  \n",
      " 3   international plan      3333 non-null   int64  \n",
      " 4   voice mail plan         3333 non-null   int64  \n",
      " 5   number vmail messages   3333 non-null   int64  \n",
      " 6   total day minutes       3333 non-null   float64\n",
      " 7   total day calls         3333 non-null   int64  \n",
      " 8   total day charge        3333 non-null   float64\n",
      " 9   total eve minutes       3333 non-null   float64\n",
      " 10  total eve calls         3333 non-null   int64  \n",
      " 11  total eve charge        3333 non-null   float64\n",
      " 12  total night minutes     3333 non-null   float64\n",
      " 13  total night calls       3333 non-null   int64  \n",
      " 14  total night charge      3333 non-null   float64\n",
      " 15  total intl minutes      3333 non-null   float64\n",
      " 16  total intl calls        3333 non-null   int64  \n",
      " 17  total intl charge       3333 non-null   float64\n",
      " 18  customer service calls  3333 non-null   int64  \n",
      " 19  churn                   3333 non-null   int64  \n",
      "dtypes: float64(8), int64(12)\n",
      "memory usage: 520.9 KB\n"
     ]
    }
   ],
   "source": [
    "#### transform the categorical columns \n",
    "from sklearn.preprocessing import LabelEncoder\n",
    "\n",
    "\n",
    "df_en = df_copy.copy()\n",
    "\n",
    "#initiate the encoder\n",
    "le = LabelEncoder()\n",
    "\n",
    "#encoding non-numeric columns\n",
    "for col in df_en.select_dtypes(exclude='number').columns:\n",
    "    df_en[col] = le.fit_transform(df_en[col])\n",
    "\n",
    "df_en.info()"
   ]
  },
  {
   "cell_type": "markdown",
   "id": "3687ce5a",
   "metadata": {},
   "source": [
    "Visualize the rate of churn against the number of minutes used by the customer."
   ]
  },
  {
   "cell_type": "code",
   "execution_count": 20,
   "id": "c51b0ce7",
   "metadata": {},
   "outputs": [
    {
     "data": {
      "image/png": "[encoded data removed]",
      "text/plain": [
       "<Figure size 800x400 with 1 Axes>"
      ]
     },
     "metadata": {},
     "output_type": "display_data"
    }
   ],
   "source": [
    "#Objectives\n",
    "# 1. Understanding how usage patterns affect customer churn.\n",
    "\n",
    "pattern_columns = ['total day minutes','total eve minutes', 'total night minutes', 'total intl minutes']\n",
    "df_en.groupby('churn')[pattern_columns].mean().T.plot(kind='bar', figsize=(8, 4))\n",
    "plt.title('Average minutes by customers')\n",
    "plt.ylabel('Average Number of Minutes')\n",
    "plt.legend(['Not churned', 'Churned'])\n",
    "plt.show()\n"
   ]
  },
  {
   "cell_type": "markdown",
   "id": "28ce83dd",
   "metadata": {},
   "source": [
    "Customers who churn tend to have higher average usage in total day minutes, total eve minutes, and total night minutes compared to those who do not churn. Therefore, higher daytime, evening, and nighttime usage could indicate that churned customers are heavier users or might be exploring other providers more actively before leaving.\n",
    "\n",
    "Next up we'll look at how customer service department impacts the churn rate."
   ]
  },
  {
   "cell_type": "code",
   "execution_count": null,
   "id": "1a631e52",
   "metadata": {},
   "outputs": [
    {
     "data": {
      "image/png": "[encoded data removed]",
      "text/plain": [
       "<Figure size 640x480 with 1 Axes>"
      ]
     },
     "metadata": {},
     "output_type": "display_data"
    }
   ],
   "source": [
    "### Objective\n",
    "# 2. Factors that cause customer dissatisfaction.\n",
    "sns.barplot(x='churn', y = 'customer service calls', data=df_en, color='red')\n",
    "plt.title('Customer Service Calls VS Churn Rate')\n",
    "plt.show()\n"
   ]
  },
  {
   "cell_type": "markdown",
   "id": "5d10a7a5",
   "metadata": {},
   "source": [
    "Customers who tend to make more calls to customer service are at risk of churning compared to those who make fewer calls. We can recommend identifying the main cause of calling and the assistance given during the call. \n",
    "\n",
    "Next, we'll investigate voice mail plan against the churn rate."
   ]
  },
  {
   "cell_type": "code",
   "execution_count": null,
   "id": "da3d0e2e",
   "metadata": {},
   "outputs": [
    {
     "data": {
      "image/png": "[encoded data removed]",
      "text/plain": [
       "<Figure size 640x480 with 1 Axes>"
      ]
     },
     "metadata": {},
     "output_type": "display_data"
    }
   ],
   "source": [
    "#barplot for churn vs voice mail plan\n",
    "sns.barplot(x='churn', y = 'voice mail plan', data=df_en, color='yellow')\n",
    "plt.title('Voice Mail Plan VS Churn Rate')\n",
    "plt.show()"
   ]
  },
  {
   "cell_type": "markdown",
   "id": "6ad123e2",
   "metadata": {},
   "source": [
    "Customers who churn tend to have lower voicemail plans compared to those who dont churn. Therefore a low voice mail plan, could be an indicator of a customer at risk of churning.\n",
    "\n",
    "Lets see if international plan also affects churn rate."
   ]
  },
  {
   "cell_type": "code",
   "execution_count": null,
   "id": "ed2587ea",
   "metadata": {},
   "outputs": [
    {
     "data": {
      "image/png": "[encoded data removed]",
      "text/plain": [
       "<Figure size 640x480 with 1 Axes>"
      ]
     },
     "metadata": {},
     "output_type": "display_data"
    }
   ],
   "source": [
    "#churn rate vs international plan\n",
    "sns.barplot(x='churn', y = 'international plan', data=df_en, color='orange')\n",
    "plt.title('International Plan VS Churn Rate')\n",
    "plt.show()"
   ]
  },
  {
   "cell_type": "markdown",
   "id": "da712b63",
   "metadata": {},
   "source": [
    "From the graph, most of the customers who churn are heavy users of international plan, this might indicate a flaw in terms of the package ordered, or customers who are about to churn leave the country a lot. So we recommend putting targeted intervention to customers who use the international plan. \n",
    "\n",
    "Lets create a machine learning model to help use flag at-risk customers."
   ]
  },
  {
   "cell_type": "markdown",
   "id": "45a295af",
   "metadata": {},
   "source": [
    "### Modelling Phase"
   ]
  },
  {
   "cell_type": "code",
   "execution_count": 27,
   "id": "7ca43fcf",
   "metadata": {},
   "outputs": [],
   "source": [
    "\n",
    "### Objectives\n",
    "# 3. Building a model to flag high-risk customers.\n",
    "\n",
    "from sklearn.model_selection import train_test_split\n",
    "from sklearn.neighbors import KNeighborsClassifier\n",
    "from sklearn.metrics import classification_report\n",
    "\n",
    "\n",
    "#separate predictors and target\n",
    "X = df_en.drop('churn', axis=1)\n",
    "y = df_en['churn']\n",
    "\n",
    "#split data 80/20, random_state = 21\n",
    "X_train, X_test, y_train, y_test = train_test_split(X, y, random_state=21, test_size=0.2)\n"
   ]
  },
  {
   "cell_type": "code",
   "execution_count": 28,
   "id": "09828951",
   "metadata": {},
   "outputs": [],
   "source": [
    "#instantiate the model\n",
    "knn = KNeighborsClassifier(n_neighbors=7)"
   ]
  },
  {
   "cell_type": "code",
   "execution_count": 29,
   "id": "d4edc0db",
   "metadata": {},
   "outputs": [],
   "source": [
    "#training the model\n",
    "knn.fit(X_train, y_train)\n",
    "\n",
    "#predict\n",
    "y_preds = knn.predict(X_test)"
   ]
  },
  {
   "cell_type": "code",
   "execution_count": 31,
   "id": "d80ed848",
   "metadata": {},
   "outputs": [
    {
     "name": "stdout",
     "output_type": "stream",
     "text": [
      "              precision    recall  f1-score   support\n",
      "\n",
      "           0       0.85      1.00      0.92       562\n",
      "           1       0.80      0.08      0.14       105\n",
      "\n",
      "    accuracy                           0.85       667\n",
      "   macro avg       0.83      0.54      0.53       667\n",
      "weighted avg       0.84      0.85      0.80       667\n",
      "\n"
     ]
    }
   ],
   "source": [
    "#evaluation of the model\n",
    "print(classification_report(y_test, y_preds))"
   ]
  },
  {
   "cell_type": "markdown",
   "id": "212e70ab",
   "metadata": {},
   "source": [
    "Interpret the results."
   ]
  },
  {
   "cell_type": "code",
   "execution_count": 33,
   "id": "43a291f2",
   "metadata": {},
   "outputs": [
    {
     "name": "stdout",
     "output_type": "stream",
     "text": [
      "<class 'pandas.core.frame.DataFrame'>\n",
      "RangeIndex: 3333 entries, 0 to 3332\n",
      "Data columns (total 21 columns):\n",
      " #   Column                  Non-Null Count  Dtype  \n",
      "---  ------                  --------------  -----  \n",
      " 0   state                   3333 non-null   object \n",
      " 1   account length          3333 non-null   int64  \n",
      " 2   area code               3333 non-null   int64  \n",
      " 3   phone number            3333 non-null   object \n",
      " 4   international plan      3333 non-null   object \n",
      " 5   voice mail plan         3333 non-null   object \n",
      " 6   number vmail messages   3333 non-null   int64  \n",
      " 7   total day minutes       3333 non-null   float64\n",
      " 8   total day calls         3333 non-null   int64  \n",
      " 9   total day charge        3333 non-null   float64\n",
      " 10  total eve minutes       3333 non-null   float64\n",
      " 11  total eve calls         3333 non-null   int64  \n",
      " 12  total eve charge        3333 non-null   float64\n",
      " 13  total night minutes     3333 non-null   float64\n",
      " 14  total night calls       3333 non-null   int64  \n",
      " 15  total night charge      3333 non-null   float64\n",
      " 16  total intl minutes      3333 non-null   float64\n",
      " 17  total intl calls        3333 non-null   int64  \n",
      " 18  total intl charge       3333 non-null   float64\n",
      " 19  customer service calls  3333 non-null   int64  \n",
      " 20  churn                   3333 non-null   bool   \n",
      "dtypes: bool(1), float64(8), int64(8), object(4)\n",
      "memory usage: 524.2+ KB\n"
     ]
    }
   ],
   "source": [
    "df.info()"
   ]
  },
  {
   "cell_type": "code",
   "execution_count": null,
   "id": "c3044e6c",
   "metadata": {},
   "outputs": [],
   "source": []
  },
  {
   "cell_type": "code",
   "execution_count": null,
   "id": "153524fa",
   "metadata": {},
   "outputs": [],
   "source": [
    "\n"
   ]
  },
  {
   "cell_type": "code",
   "execution_count": null,
   "id": "89727020",
   "metadata": {},
   "outputs": [],
   "source": [
    "\n"
   ]
  },
  {
   "cell_type": "code",
   "execution_count": null,
   "id": "d6bcd9e0",
   "metadata": {},
   "outputs": [],
   "source": [
    "\n"
   ]
  },
  {
   "cell_type": "code",
   "execution_count": null,
   "id": "aa9d60bb",
   "metadata": {},
   "outputs": [],
   "source": [
    "\n",
    "\n"
   ]
  },
  {
   "cell_type": "code",
   "execution_count": null,
   "id": "9f017828",
   "metadata": {},
   "outputs": [],
   "source": []
  }
 ],
 "metadata": {
  "kernelspec": {
   "display_name": "base",
   "language": "python",
   "name": "python3"
  },
  "language_info": {
   "codemirror_mode": {
    "name": "ipython",
    "version": 3
   },
   "file_extension": ".py",
   "mimetype": "text/x-python",
   "name": "python",
   "nbconvert_exporter": "python",
   "pygments_lexer": "ipython3",
   "version": "3.12.7"
  }
 },
 "nbformat": 4,
 "nbformat_minor": 5
}
