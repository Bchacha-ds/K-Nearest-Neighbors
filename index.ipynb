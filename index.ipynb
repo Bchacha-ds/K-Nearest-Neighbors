{
 "cells": [
  {
   "cell_type": "markdown",
   "id": "17cf10c9",
   "metadata": {},
   "source": [
    "### Can We Predict Who Leaves? A KNN Approach to Churn\n",
    "#### Project Overview\n",
    "The project's focus is to train a machine learning model capable of flagging customers who are at risk of churning. The aim of the model is to help the company's customer support team to better direct their efforts in terms of customer retention."
   ]
  },
  {
   "cell_type": "markdown",
   "id": "3e9c35cb",
   "metadata": {},
   "source": [
    "#### Background Information\n",
    "Customer churn is a major challenge for telecom companies like Syriatel; predicting churn reduces revenue loss by allowing them to take preventive measures like offering promotions or resolving service issues. We aim to use customer data collected by Syriatel to generate patterns associated with customer churn and build a model to flag at-risk customers.\n",
    "\n",
    "By analysing these patterns, we aim to identify which features are strong indicators of churn. The model will also help evaluate how distance metrics and different values of k affect prediction accuracy, guiding both technical improvements and customer retention strategies."
   ]
  },
  {
   "cell_type": "markdown",
   "id": "74f9c28c",
   "metadata": {},
   "source": [
    "#### Challenges\n",
    "1. Imbalance Dataset.\n",
    "2. Inconsistent scales present in some columns.\n",
    "\n",
    "#### Solutions\n",
    "1. Employ resampling techniques to address the imbalance.\n",
    "2. Transform columns using Standard Scaling and Min max scaling to help in modelling stage."
   ]
  },
  {
   "cell_type": "markdown",
   "id": "1f2fd07f",
   "metadata": {},
   "source": [
    "## Problem Statement\n",
    "Syriatel faces unpredictable customer churn, that impacts revenue and market share. (**Assumption**)Despite heavy investment in marketing and acquisition, customers leave without warning. In order to identify at-risk customers early, this project will use existing data; usage patterns, subscriptions, and service interactions. All with an aim of early intervention for retention of the customer.\n",
    "\n",
    "### Objectives\n",
    "1. Understanding how usage patterns affect customer churn.\n",
    "2. Factors that cause customer dissatisfaction.\n",
    "3. Building a model to flag high-risk customers."
   ]
  },
  {
   "cell_type": "code",
   "execution_count": 1,
   "id": "a0ffae94",
   "metadata": {},
   "outputs": [
    {
     "name": "stdout",
     "output_type": "stream",
     "text": [
      "<class 'pandas.core.frame.DataFrame'>\n",
      "RangeIndex: 3333 entries, 0 to 3332\n",
      "Data columns (total 21 columns):\n",
      " #   Column                  Non-Null Count  Dtype  \n",
      "---  ------                  --------------  -----  \n",
      " 0   state                   3333 non-null   object \n",
      " 1   account length          3333 non-null   int64  \n",
      " 2   area code               3333 non-null   int64  \n",
      " 3   phone number            3333 non-null   object \n",
      " 4   international plan      3333 non-null   object \n",
      " 5   voice mail plan         3333 non-null   object \n",
      " 6   number vmail messages   3333 non-null   int64  \n",
      " 7   total day minutes       3333 non-null   float64\n",
      " 8   total day calls         3333 non-null   int64  \n",
      " 9   total day charge        3333 non-null   float64\n",
      " 10  total eve minutes       3333 non-null   float64\n",
      " 11  total eve calls         3333 non-null   int64  \n",
      " 12  total eve charge        3333 non-null   float64\n",
      " 13  total night minutes     3333 non-null   float64\n",
      " 14  total night calls       3333 non-null   int64  \n",
      " 15  total night charge      3333 non-null   float64\n",
      " 16  total intl minutes      3333 non-null   float64\n",
      " 17  total intl calls        3333 non-null   int64  \n",
      " 18  total intl charge       3333 non-null   float64\n",
      " 19  customer service calls  3333 non-null   int64  \n",
      " 20  churn                   3333 non-null   bool   \n",
      "dtypes: bool(1), float64(8), int64(8), object(4)\n",
      "memory usage: 524.2+ KB\n"
     ]
    }
   ],
   "source": [
    "import pandas as pd \n",
    "import numpy as np \n",
    "import matplotlib.pyplot as plt\n",
    "import seaborn as sns\n",
    "\n",
    "df = pd.read_csv('./data/churn.csv')\n",
    "df.info()"
   ]
  },
  {
   "cell_type": "markdown",
   "id": "5be63976",
   "metadata": {},
   "source": [
    "Displaying the first five rows of the data to get a feel of how it looks."
   ]
  },
  {
   "cell_type": "code",
   "execution_count": 2,
   "id": "0ae3c4b0",
   "metadata": {},
   "outputs": [
    {
     "data": {
      "application/vnd.microsoft.datawrangler.viewer.v0+json": {
       "columns": [
        {
         "name": "index",
         "rawType": "int64",
         "type": "integer"
        },
        {
         "name": "state",
         "rawType": "object",
         "type": "string"
        },
        {
         "name": "account length",
         "rawType": "int64",
         "type": "integer"
        },
        {
         "name": "area code",
         "rawType": "int64",
         "type": "integer"
        },
        {
         "name": "phone number",
         "rawType": "object",
         "type": "string"
        },
        {
         "name": "international plan",
         "rawType": "object",
         "type": "string"
        },
        {
         "name": "voice mail plan",
         "rawType": "object",
         "type": "string"
        },
        {
         "name": "number vmail messages",
         "rawType": "int64",
         "type": "integer"
        },
        {
         "name": "total day minutes",
         "rawType": "float64",
         "type": "float"
        },
        {
         "name": "total day calls",
         "rawType": "int64",
         "type": "integer"
        },
        {
         "name": "total day charge",
         "rawType": "float64",
         "type": "float"
        },
        {
         "name": "total eve minutes",
         "rawType": "float64",
         "type": "float"
        },
        {
         "name": "total eve calls",
         "rawType": "int64",
         "type": "integer"
        },
        {
         "name": "total eve charge",
         "rawType": "float64",
         "type": "float"
        },
        {
         "name": "total night minutes",
         "rawType": "float64",
         "type": "float"
        },
        {
         "name": "total night calls",
         "rawType": "int64",
         "type": "integer"
        },
        {
         "name": "total night charge",
         "rawType": "float64",
         "type": "float"
        },
        {
         "name": "total intl minutes",
         "rawType": "float64",
         "type": "float"
        },
        {
         "name": "total intl calls",
         "rawType": "int64",
         "type": "integer"
        },
        {
         "name": "total intl charge",
         "rawType": "float64",
         "type": "float"
        },
        {
         "name": "customer service calls",
         "rawType": "int64",
         "type": "integer"
        },
        {
         "name": "churn",
         "rawType": "bool",
         "type": "boolean"
        }
       ],
       "ref": "3f63afd2-795a-4d46-8b9c-1603cc9d6da6",
       "rows": [
        [
         "0",
         "KS",
         "128",
         "415",
         "382-4657",
         "no",
         "yes",
         "25",
         "265.1",
         "110",
         "45.07",
         "197.4",
         "99",
         "16.78",
         "244.7",
         "91",
         "11.01",
         "10.0",
         "3",
         "2.7",
         "1",
         "False"
        ],
        [
         "1",
         "OH",
         "107",
         "415",
         "371-7191",
         "no",
         "yes",
         "26",
         "161.6",
         "123",
         "27.47",
         "195.5",
         "103",
         "16.62",
         "254.4",
         "103",
         "11.45",
         "13.7",
         "3",
         "3.7",
         "1",
         "False"
        ],
        [
         "2",
         "NJ",
         "137",
         "415",
         "358-1921",
         "no",
         "no",
         "0",
         "243.4",
         "114",
         "41.38",
         "121.2",
         "110",
         "10.3",
         "162.6",
         "104",
         "7.32",
         "12.2",
         "5",
         "3.29",
         "0",
         "False"
        ],
        [
         "3",
         "OH",
         "84",
         "408",
         "375-9999",
         "yes",
         "no",
         "0",
         "299.4",
         "71",
         "50.9",
         "61.9",
         "88",
         "5.26",
         "196.9",
         "89",
         "8.86",
         "6.6",
         "7",
         "1.78",
         "2",
         "False"
        ],
        [
         "4",
         "OK",
         "75",
         "415",
         "330-6626",
         "yes",
         "no",
         "0",
         "166.7",
         "113",
         "28.34",
         "148.3",
         "122",
         "12.61",
         "186.9",
         "121",
         "8.41",
         "10.1",
         "3",
         "2.73",
         "3",
         "False"
        ]
       ],
       "shape": {
        "columns": 21,
        "rows": 5
       }
      },
      "text/html": [
       "<div>\n",
       "<style scoped>\n",
       "    .dataframe tbody tr th:only-of-type {\n",
       "        vertical-align: middle;\n",
       "    }\n",
       "\n",
       "    .dataframe tbody tr th {\n",
       "        vertical-align: top;\n",
       "    }\n",
       "\n",
       "    .dataframe thead th {\n",
       "        text-align: right;\n",
       "    }\n",
       "</style>\n",
       "<table border=\"1\" class=\"dataframe\">\n",
       "  <thead>\n",
       "    <tr style=\"text-align: right;\">\n",
       "      <th></th>\n",
       "      <th>state</th>\n",
       "      <th>account length</th>\n",
       "      <th>area code</th>\n",
       "      <th>phone number</th>\n",
       "      <th>international plan</th>\n",
       "      <th>voice mail plan</th>\n",
       "      <th>number vmail messages</th>\n",
       "      <th>total day minutes</th>\n",
       "      <th>total day calls</th>\n",
       "      <th>total day charge</th>\n",
       "      <th>...</th>\n",
       "      <th>total eve calls</th>\n",
       "      <th>total eve charge</th>\n",
       "      <th>total night minutes</th>\n",
       "      <th>total night calls</th>\n",
       "      <th>total night charge</th>\n",
       "      <th>total intl minutes</th>\n",
       "      <th>total intl calls</th>\n",
       "      <th>total intl charge</th>\n",
       "      <th>customer service calls</th>\n",
       "      <th>churn</th>\n",
       "    </tr>\n",
       "  </thead>\n",
       "  <tbody>\n",
       "    <tr>\n",
       "      <th>0</th>\n",
       "      <td>KS</td>\n",
       "      <td>128</td>\n",
       "      <td>415</td>\n",
       "      <td>382-4657</td>\n",
       "      <td>no</td>\n",
       "      <td>yes</td>\n",
       "      <td>25</td>\n",
       "      <td>265.1</td>\n",
       "      <td>110</td>\n",
       "      <td>45.07</td>\n",
       "      <td>...</td>\n",
       "      <td>99</td>\n",
       "      <td>16.78</td>\n",
       "      <td>244.7</td>\n",
       "      <td>91</td>\n",
       "      <td>11.01</td>\n",
       "      <td>10.0</td>\n",
       "      <td>3</td>\n",
       "      <td>2.70</td>\n",
       "      <td>1</td>\n",
       "      <td>False</td>\n",
       "    </tr>\n",
       "    <tr>\n",
       "      <th>1</th>\n",
       "      <td>OH</td>\n",
       "      <td>107</td>\n",
       "      <td>415</td>\n",
       "      <td>371-7191</td>\n",
       "      <td>no</td>\n",
       "      <td>yes</td>\n",
       "      <td>26</td>\n",
       "      <td>161.6</td>\n",
       "      <td>123</td>\n",
       "      <td>27.47</td>\n",
       "      <td>...</td>\n",
       "      <td>103</td>\n",
       "      <td>16.62</td>\n",
       "      <td>254.4</td>\n",
       "      <td>103</td>\n",
       "      <td>11.45</td>\n",
       "      <td>13.7</td>\n",
       "      <td>3</td>\n",
       "      <td>3.70</td>\n",
       "      <td>1</td>\n",
       "      <td>False</td>\n",
       "    </tr>\n",
       "    <tr>\n",
       "      <th>2</th>\n",
       "      <td>NJ</td>\n",
       "      <td>137</td>\n",
       "      <td>415</td>\n",
       "      <td>358-1921</td>\n",
       "      <td>no</td>\n",
       "      <td>no</td>\n",
       "      <td>0</td>\n",
       "      <td>243.4</td>\n",
       "      <td>114</td>\n",
       "      <td>41.38</td>\n",
       "      <td>...</td>\n",
       "      <td>110</td>\n",
       "      <td>10.30</td>\n",
       "      <td>162.6</td>\n",
       "      <td>104</td>\n",
       "      <td>7.32</td>\n",
       "      <td>12.2</td>\n",
       "      <td>5</td>\n",
       "      <td>3.29</td>\n",
       "      <td>0</td>\n",
       "      <td>False</td>\n",
       "    </tr>\n",
       "    <tr>\n",
       "      <th>3</th>\n",
       "      <td>OH</td>\n",
       "      <td>84</td>\n",
       "      <td>408</td>\n",
       "      <td>375-9999</td>\n",
       "      <td>yes</td>\n",
       "      <td>no</td>\n",
       "      <td>0</td>\n",
       "      <td>299.4</td>\n",
       "      <td>71</td>\n",
       "      <td>50.90</td>\n",
       "      <td>...</td>\n",
       "      <td>88</td>\n",
       "      <td>5.26</td>\n",
       "      <td>196.9</td>\n",
       "      <td>89</td>\n",
       "      <td>8.86</td>\n",
       "      <td>6.6</td>\n",
       "      <td>7</td>\n",
       "      <td>1.78</td>\n",
       "      <td>2</td>\n",
       "      <td>False</td>\n",
       "    </tr>\n",
       "    <tr>\n",
       "      <th>4</th>\n",
       "      <td>OK</td>\n",
       "      <td>75</td>\n",
       "      <td>415</td>\n",
       "      <td>330-6626</td>\n",
       "      <td>yes</td>\n",
       "      <td>no</td>\n",
       "      <td>0</td>\n",
       "      <td>166.7</td>\n",
       "      <td>113</td>\n",
       "      <td>28.34</td>\n",
       "      <td>...</td>\n",
       "      <td>122</td>\n",
       "      <td>12.61</td>\n",
       "      <td>186.9</td>\n",
       "      <td>121</td>\n",
       "      <td>8.41</td>\n",
       "      <td>10.1</td>\n",
       "      <td>3</td>\n",
       "      <td>2.73</td>\n",
       "      <td>3</td>\n",
       "      <td>False</td>\n",
       "    </tr>\n",
       "  </tbody>\n",
       "</table>\n",
       "<p>5 rows × 21 columns</p>\n",
       "</div>"
      ],
      "text/plain": [
       "  state  account length  area code phone number international plan  \\\n",
       "0    KS             128        415     382-4657                 no   \n",
       "1    OH             107        415     371-7191                 no   \n",
       "2    NJ             137        415     358-1921                 no   \n",
       "3    OH              84        408     375-9999                yes   \n",
       "4    OK              75        415     330-6626                yes   \n",
       "\n",
       "  voice mail plan  number vmail messages  total day minutes  total day calls  \\\n",
       "0             yes                     25              265.1              110   \n",
       "1             yes                     26              161.6              123   \n",
       "2              no                      0              243.4              114   \n",
       "3              no                      0              299.4               71   \n",
       "4              no                      0              166.7              113   \n",
       "\n",
       "   total day charge  ...  total eve calls  total eve charge  \\\n",
       "0             45.07  ...               99             16.78   \n",
       "1             27.47  ...              103             16.62   \n",
       "2             41.38  ...              110             10.30   \n",
       "3             50.90  ...               88              5.26   \n",
       "4             28.34  ...              122             12.61   \n",
       "\n",
       "   total night minutes  total night calls  total night charge  \\\n",
       "0                244.7                 91               11.01   \n",
       "1                254.4                103               11.45   \n",
       "2                162.6                104                7.32   \n",
       "3                196.9                 89                8.86   \n",
       "4                186.9                121                8.41   \n",
       "\n",
       "   total intl minutes  total intl calls  total intl charge  \\\n",
       "0                10.0                 3               2.70   \n",
       "1                13.7                 3               3.70   \n",
       "2                12.2                 5               3.29   \n",
       "3                 6.6                 7               1.78   \n",
       "4                10.1                 3               2.73   \n",
       "\n",
       "   customer service calls  churn  \n",
       "0                       1  False  \n",
       "1                       1  False  \n",
       "2                       0  False  \n",
       "3                       2  False  \n",
       "4                       3  False  \n",
       "\n",
       "[5 rows x 21 columns]"
      ]
     },
     "execution_count": 2,
     "metadata": {},
     "output_type": "execute_result"
    }
   ],
   "source": [
    "df.head()"
   ]
  },
  {
   "cell_type": "markdown",
   "id": "2409bbff",
   "metadata": {},
   "source": [
    "rows and columns"
   ]
  },
  {
   "cell_type": "code",
   "execution_count": 3,
   "id": "76c5d624",
   "metadata": {},
   "outputs": [
    {
     "name": "stdout",
     "output_type": "stream",
     "text": [
      "(3333, 21), \n",
      "Index(['state', 'account length', 'area code', 'phone number',\n",
      "       'international plan', 'voice mail plan', 'number vmail messages',\n",
      "       'total day minutes', 'total day calls', 'total day charge',\n",
      "       'total eve minutes', 'total eve calls', 'total eve charge',\n",
      "       'total night minutes', 'total night calls', 'total night charge',\n",
      "       'total intl minutes', 'total intl calls', 'total intl charge',\n",
      "       'customer service calls', 'churn'],\n",
      "      dtype='object')\n"
     ]
    }
   ],
   "source": [
    "print(f'{df.shape}, \\n{df.columns}')"
   ]
  },
  {
   "cell_type": "markdown",
   "id": "f3eb5ef2",
   "metadata": {},
   "source": [
    "### EDA\n",
    "We'll take a look at the distribution of the columns within the data, check if there are any discrepancies and outliers to address, then move into the modelling phase."
   ]
  },
  {
   "cell_type": "code",
   "execution_count": 4,
   "id": "5ebd6e56",
   "metadata": {},
   "outputs": [
    {
     "name": "stdout",
     "output_type": "stream",
     "text": [
      "<class 'pandas.core.frame.DataFrame'>\n",
      "RangeIndex: 3333 entries, 0 to 3332\n",
      "Data columns (total 20 columns):\n",
      " #   Column                  Non-Null Count  Dtype  \n",
      "---  ------                  --------------  -----  \n",
      " 0   account length          3333 non-null   int64  \n",
      " 1   area code               3333 non-null   int64  \n",
      " 2   phone number            3333 non-null   object \n",
      " 3   international plan      3333 non-null   object \n",
      " 4   voice mail plan         3333 non-null   object \n",
      " 5   number vmail messages   3333 non-null   int64  \n",
      " 6   total day minutes       3333 non-null   float64\n",
      " 7   total day calls         3333 non-null   int64  \n",
      " 8   total day charge        3333 non-null   float64\n",
      " 9   total eve minutes       3333 non-null   float64\n",
      " 10  total eve calls         3333 non-null   int64  \n",
      " 11  total eve charge        3333 non-null   float64\n",
      " 12  total night minutes     3333 non-null   float64\n",
      " 13  total night calls       3333 non-null   int64  \n",
      " 14  total night charge      3333 non-null   float64\n",
      " 15  total intl minutes      3333 non-null   float64\n",
      " 16  total intl calls        3333 non-null   int64  \n",
      " 17  total intl charge       3333 non-null   float64\n",
      " 18  customer service calls  3333 non-null   int64  \n",
      " 19  churn                   3333 non-null   bool   \n",
      "dtypes: bool(1), float64(8), int64(8), object(3)\n",
      "memory usage: 498.1+ KB\n"
     ]
    }
   ],
   "source": [
    "df_copy = df.drop('state', axis=1)\n",
    "\n",
    "df_copy.info()"
   ]
  },
  {
   "cell_type": "markdown",
   "id": "98efd6a9",
   "metadata": {},
   "source": [
    "Initial column transformation for use in the EDA process."
   ]
  },
  {
   "cell_type": "code",
   "execution_count": 5,
   "id": "1470e5c4",
   "metadata": {},
   "outputs": [
    {
     "name": "stdout",
     "output_type": "stream",
     "text": [
      "<class 'pandas.core.frame.DataFrame'>\n",
      "RangeIndex: 3333 entries, 0 to 3332\n",
      "Data columns (total 20 columns):\n",
      " #   Column                  Non-Null Count  Dtype  \n",
      "---  ------                  --------------  -----  \n",
      " 0   account length          3333 non-null   int64  \n",
      " 1   area code               3333 non-null   int64  \n",
      " 2   phone number            3333 non-null   int64  \n",
      " 3   international plan      3333 non-null   int64  \n",
      " 4   voice mail plan         3333 non-null   int64  \n",
      " 5   number vmail messages   3333 non-null   int64  \n",
      " 6   total day minutes       3333 non-null   float64\n",
      " 7   total day calls         3333 non-null   int64  \n",
      " 8   total day charge        3333 non-null   float64\n",
      " 9   total eve minutes       3333 non-null   float64\n",
      " 10  total eve calls         3333 non-null   int64  \n",
      " 11  total eve charge        3333 non-null   float64\n",
      " 12  total night minutes     3333 non-null   float64\n",
      " 13  total night calls       3333 non-null   int64  \n",
      " 14  total night charge      3333 non-null   float64\n",
      " 15  total intl minutes      3333 non-null   float64\n",
      " 16  total intl calls        3333 non-null   int64  \n",
      " 17  total intl charge       3333 non-null   float64\n",
      " 18  customer service calls  3333 non-null   int64  \n",
      " 19  churn                   3333 non-null   int64  \n",
      "dtypes: float64(8), int64(12)\n",
      "memory usage: 520.9 KB\n"
     ]
    }
   ],
   "source": [
    "#### transform the categorical columns \n",
    "from sklearn.preprocessing import LabelEncoder\n",
    "\n",
    "\n",
    "df_en = df_copy.copy()\n",
    "\n",
    "#initiate the encoder\n",
    "le = LabelEncoder()\n",
    "\n",
    "#encoding non-numeric columns\n",
    "for col in df_en.select_dtypes(exclude='number').columns:\n",
    "    df_en[col] = le.fit_transform(df_en[col])\n",
    "\n",
    "df_en.info()"
   ]
  },
  {
   "cell_type": "markdown",
   "id": "3687ce5a",
   "metadata": {},
   "source": [
    "Visualize the rate of churn against the number of minutes used by the customer."
   ]
  },
  {
   "cell_type": "code",
   "execution_count": 6,
   "id": "c51b0ce7",
   "metadata": {},
   "outputs": [
    {
     "data": {
      "image/png": "[encoded data removed]",
      "text/plain": [
       "<Figure size 800x400 with 1 Axes>"
      ]
     },
     "metadata": {},
     "output_type": "display_data"
    }
   ],
   "source": [
    "#Objectives\n",
    "# 1. Understanding how usage patterns affect customer churn.\n",
    "\n",
    "pattern_columns = ['total day minutes','total eve minutes', 'total night minutes', 'total intl minutes']\n",
    "df_en.groupby('churn')[pattern_columns].mean().T.plot(kind='bar', figsize=(8, 4))\n",
    "plt.title('Average minutes by customers')\n",
    "plt.ylabel('Average Number of Minutes')\n",
    "plt.legend(['Not churned', 'Churned'])\n",
    "plt.show()\n"
   ]
  },
  {
   "cell_type": "markdown",
   "id": "28ce83dd",
   "metadata": {},
   "source": [
    "Customers who churn tend to have higher average usage in total day minutes, total eve minutes, and total night minutes compared to those who do not churn. Therefore, higher daytime, evening, and nighttime usage could indicate that churned customers are heavier users or might be exploring other providers more actively before leaving.\n",
    "\n",
    "Next up we'll look at how customer service department impacts the churn rate."
   ]
  },
  {
   "cell_type": "code",
   "execution_count": 7,
   "id": "1a631e52",
   "metadata": {},
   "outputs": [
    {
     "data": {
      "image/png": "[encoded data removed]",
      "text/plain": [
       "<Figure size 640x480 with 1 Axes>"
      ]
     },
     "metadata": {},
     "output_type": "display_data"
    }
   ],
   "source": [
    "### Objective\n",
    "# 2. Factors that cause customer dissatisfaction.\n",
    "sns.barplot(x='churn', y = 'customer service calls', data=df_en, color='red')\n",
    "plt.title('Customer Service Calls VS Churn Rate')\n",
    "plt.show()\n"
   ]
  },
  {
   "cell_type": "markdown",
   "id": "5d10a7a5",
   "metadata": {},
   "source": [
    "Customers who tend to make more calls to customer service are at risk of churning compared to those who make fewer calls. We can recommend identifying the main cause of calling and the assistance given during the call. \n",
    "\n",
    "Next, we'll investigate voice mail plan against the churn rate."
   ]
  },
  {
   "cell_type": "code",
   "execution_count": 8,
   "id": "da3d0e2e",
   "metadata": {},
   "outputs": [
    {
     "data": {
      "image/png": "[encoded data removed]",
      "text/plain": [
       "<Figure size 640x480 with 1 Axes>"
      ]
     },
     "metadata": {},
     "output_type": "display_data"
    }
   ],
   "source": [
    "#barplot for churn vs voice mail plan\n",
    "sns.barplot(x='churn', y = 'voice mail plan', data=df_en, color='yellow')\n",
    "plt.title('Voice Mail Plan VS Churn Rate')\n",
    "plt.show()"
   ]
  },
  {
   "cell_type": "markdown",
   "id": "6ad123e2",
   "metadata": {},
   "source": [
    "Customers who churn tend to have lower voicemail plans compared to those who dont churn. Therefore a low voice mail plan, could be an indicator of a customer at risk of churning.\n",
    "\n",
    "Lets see if international plan also affects churn rate."
   ]
  },
  {
   "cell_type": "code",
   "execution_count": 9,
   "id": "ed2587ea",
   "metadata": {},
   "outputs": [
    {
     "data": {
      "image/png": "[encoded data removed]",
      "text/plain": [
       "<Figure size 640x480 with 1 Axes>"
      ]
     },
     "metadata": {},
     "output_type": "display_data"
    }
   ],
   "source": [
    "#churn rate vs international plan\n",
    "sns.barplot(x='churn', y = 'international plan', data=df_en, color='orange')\n",
    "plt.title('International Plan VS Churn Rate')\n",
    "plt.show()"
   ]
  },
  {
   "cell_type": "markdown",
   "id": "da712b63",
   "metadata": {},
   "source": [
    "From the graph, most of the customers who churn are heavy users of international plan, this might indicate a flaw in terms of the package ordered, or customers who are about to churn leave the country a lot. So we recommend putting targeted intervention to customers who use the international plan. \n",
    "\n",
    "Lets create a machine learning model to help use flag at-risk customers."
   ]
  },
  {
   "cell_type": "markdown",
   "id": "45a295af",
   "metadata": {},
   "source": [
    "### Modelling Phase"
   ]
  },
  {
   "cell_type": "code",
   "execution_count": 10,
   "id": "7ca43fcf",
   "metadata": {},
   "outputs": [],
   "source": [
    "\n",
    "### Objectives\n",
    "# 3. Building a model to flag high-risk customers.\n",
    "\n",
    "from sklearn.model_selection import train_test_split\n",
    "from sklearn.neighbors import KNeighborsClassifier\n",
    "from sklearn.metrics import classification_report\n",
    "\n",
    "\n",
    "#separate predictors and target\n",
    "X = df_en.drop('churn', axis=1)\n",
    "y = df_en['churn']\n",
    "\n",
    "#split data 80/20, random_state = 21\n",
    "X_train, X_test, y_train, y_test = train_test_split(X, y, random_state=21, test_size=0.2)\n"
   ]
  },
  {
   "cell_type": "code",
   "execution_count": 11,
   "id": "09828951",
   "metadata": {},
   "outputs": [],
   "source": [
    "#instantiate the model\n",
    "knn = KNeighborsClassifier(n_neighbors=7)"
   ]
  },
  {
   "cell_type": "code",
   "execution_count": 12,
   "id": "d4edc0db",
   "metadata": {},
   "outputs": [],
   "source": [
    "#training the model\n",
    "knn.fit(X_train, y_train)\n",
    "\n",
    "#predict\n",
    "y_preds = knn.predict(X_test)"
   ]
  },
  {
   "cell_type": "code",
   "execution_count": 14,
   "id": "4294444e",
   "metadata": {},
   "outputs": [
    {
     "data": {
      "application/vnd.microsoft.datawrangler.viewer.v0+json": {
       "columns": [
        {
         "name": "churn",
         "rawType": "int64",
         "type": "integer"
        },
        {
         "name": "count",
         "rawType": "int64",
         "type": "integer"
        }
       ],
       "ref": "75a59bec-dc12-49f0-96a7-f3d349a1a8b9",
       "rows": [
        [
         "0",
         "562"
        ],
        [
         "1",
         "105"
        ]
       ],
       "shape": {
        "columns": 1,
        "rows": 2
       }
      },
      "text/plain": [
       "churn\n",
       "0    562\n",
       "1    105\n",
       "Name: count, dtype: int64"
      ]
     },
     "execution_count": 14,
     "metadata": {},
     "output_type": "execute_result"
    }
   ],
   "source": [
    "y_test.value_counts()"
   ]
  },
  {
   "cell_type": "code",
   "execution_count": 31,
   "id": "d80ed848",
   "metadata": {},
   "outputs": [
    {
     "name": "stdout",
     "output_type": "stream",
     "text": [
      "              precision    recall  f1-score   support\n",
      "\n",
      "           0       0.85      1.00      0.92       562\n",
      "           1       0.80      0.08      0.14       105\n",
      "\n",
      "    accuracy                           0.85       667\n",
      "   macro avg       0.83      0.54      0.53       667\n",
      "weighted avg       0.84      0.85      0.80       667\n",
      "\n"
     ]
    }
   ],
   "source": [
    "#evaluation of the model\n",
    "print(classification_report(y_test, y_preds))"
   ]
  },
  {
   "cell_type": "markdown",
   "id": "212e70ab",
   "metadata": {},
   "source": [
    "Interpret the results."
   ]
  },
  {
   "cell_type": "code",
   "execution_count": 22,
   "id": "43a291f2",
   "metadata": {},
   "outputs": [
    {
     "data": {
      "text/plain": [
       "<sklearn.metrics._plot.confusion_matrix.ConfusionMatrixDisplay at 0x77e56c5e1ac0>"
      ]
     },
     "execution_count": 22,
     "metadata": {},
     "output_type": "execute_result"
    },
    {
     "data": {
      "image/png": "[encoded data removed]",
      "text/plain": [
       "<Figure size 640x480 with 2 Axes>"
      ]
     },
     "metadata": {},
     "output_type": "display_data"
    }
   ],
   "source": [
    "from sklearn.metrics import confusion_matrix, ConfusionMatrixDisplay\n",
    "\n",
    "cm = confusion_matrix(y_test, y_preds)\n",
    "\n",
    "# plt.figure(figsize=(8, 4))\n",
    "# sns.heatmap(cm, annot=True, fmt='d', cmap='Blues', xticklabels=['No churn', 'churn'], yticklabels=['No churn', 'churn'])\n",
    "# plt.title('Confusion matrix')\n",
    "# plt.show()\n",
    "\n",
    "\n",
    "# ----------------------------\n",
    "ConfusionMatrixDisplay(cm, display_labels=['No churn', 'churn']).plot(cmap= 'Blues')\n"
   ]
  },
  {
   "cell_type": "markdown",
   "id": "07cbea42",
   "metadata": {},
   "source": [
    "Interpretation of the image."
   ]
  },
  {
   "cell_type": "code",
   "execution_count": 24,
   "id": "5ed20543",
   "metadata": {},
   "outputs": [],
   "source": [
    "df_dropped = df.drop('phone number', axis= 1)\n",
    "\n",
    "X = df_dropped.drop('churn', axis=1)\n",
    "y = df_dropped['churn']"
   ]
  },
  {
   "cell_type": "code",
   "execution_count": null,
   "id": "20677da9",
   "metadata": {},
   "outputs": [
    {
     "data": {
      "application/vnd.microsoft.datawrangler.viewer.v0+json": {
       "columns": [
        {
         "name": "index",
         "rawType": "object",
         "type": "string"
        },
        {
         "name": "account length",
         "rawType": "float64",
         "type": "float"
        },
        {
         "name": "area code",
         "rawType": "float64",
         "type": "float"
        },
        {
         "name": "number vmail messages",
         "rawType": "float64",
         "type": "float"
        },
        {
         "name": "total day minutes",
         "rawType": "float64",
         "type": "float"
        },
        {
         "name": "total day calls",
         "rawType": "float64",
         "type": "float"
        },
        {
         "name": "total day charge",
         "rawType": "float64",
         "type": "float"
        },
        {
         "name": "total eve minutes",
         "rawType": "float64",
         "type": "float"
        },
        {
         "name": "total eve calls",
         "rawType": "float64",
         "type": "float"
        },
        {
         "name": "total eve charge",
         "rawType": "float64",
         "type": "float"
        },
        {
         "name": "total night minutes",
         "rawType": "float64",
         "type": "float"
        },
        {
         "name": "total night calls",
         "rawType": "float64",
         "type": "float"
        },
        {
         "name": "total night charge",
         "rawType": "float64",
         "type": "float"
        },
        {
         "name": "total intl minutes",
         "rawType": "float64",
         "type": "float"
        },
        {
         "name": "total intl calls",
         "rawType": "float64",
         "type": "float"
        },
        {
         "name": "total intl charge",
         "rawType": "float64",
         "type": "float"
        },
        {
         "name": "customer service calls",
         "rawType": "float64",
         "type": "float"
        }
       ],
       "ref": "1c22d87f-da3c-4bc6-8f71-fac5a32c64f2",
       "rows": [
        [
         "count",
         "3333.0",
         "3333.0",
         "3333.0",
         "3333.0",
         "3333.0",
         "3333.0",
         "3333.0",
         "3333.0",
         "3333.0",
         "3333.0",
         "3333.0",
         "3333.0",
         "3333.0",
         "3333.0",
         "3333.0",
         "3333.0"
        ],
        [
         "mean",
         "101.06480648064806",
         "437.18241824182417",
         "8.099009900990099",
         "179.77509750975094",
         "100.43564356435644",
         "30.562307230723075",
         "200.98034803480348",
         "100.11431143114311",
         "17.083540354035403",
         "200.87203720372037",
         "100.10771077107711",
         "9.03932493249325",
         "10.237293729372938",
         "4.4794479447944795",
         "2.7645814581458144",
         "1.5628562856285628"
        ],
        [
         "std",
         "39.822105928595604",
         "42.371290485606224",
         "13.68836537203884",
         "54.46738920237142",
         "20.069084207300854",
         "9.259434553930507",
         "50.71384442581193",
         "19.92262529394309",
         "4.310667643110339",
         "50.5738470136583",
         "19.568609346058615",
         "2.2758728376600317",
         "2.7918395484084204",
         "2.4612142705460887",
         "0.7537726126630453",
         "1.3154910448664843"
        ],
        [
         "min",
         "1.0",
         "408.0",
         "0.0",
         "0.0",
         "0.0",
         "0.0",
         "0.0",
         "0.0",
         "0.0",
         "23.2",
         "33.0",
         "1.04",
         "0.0",
         "0.0",
         "0.0",
         "0.0"
        ],
        [
         "25%",
         "74.0",
         "408.0",
         "0.0",
         "143.7",
         "87.0",
         "24.43",
         "166.6",
         "87.0",
         "14.16",
         "167.0",
         "87.0",
         "7.52",
         "8.5",
         "3.0",
         "2.3",
         "1.0"
        ],
        [
         "50%",
         "101.0",
         "415.0",
         "0.0",
         "179.4",
         "101.0",
         "30.5",
         "201.4",
         "100.0",
         "17.12",
         "201.2",
         "100.0",
         "9.05",
         "10.3",
         "4.0",
         "2.78",
         "1.0"
        ],
        [
         "75%",
         "127.0",
         "510.0",
         "20.0",
         "216.4",
         "114.0",
         "36.79",
         "235.3",
         "114.0",
         "20.0",
         "235.3",
         "113.0",
         "10.59",
         "12.1",
         "6.0",
         "3.27",
         "2.0"
        ],
        [
         "max",
         "243.0",
         "510.0",
         "51.0",
         "350.8",
         "165.0",
         "59.64",
         "363.7",
         "170.0",
         "30.91",
         "395.0",
         "175.0",
         "17.77",
         "20.0",
         "20.0",
         "5.4",
         "9.0"
        ]
       ],
       "shape": {
        "columns": 16,
        "rows": 8
       }
      },
      "text/html": [
       "<div>\n",
       "<style scoped>\n",
       "    .dataframe tbody tr th:only-of-type {\n",
       "        vertical-align: middle;\n",
       "    }\n",
       "\n",
       "    .dataframe tbody tr th {\n",
       "        vertical-align: top;\n",
       "    }\n",
       "\n",
       "    .dataframe thead th {\n",
       "        text-align: right;\n",
       "    }\n",
       "</style>\n",
       "<table border=\"1\" class=\"dataframe\">\n",
       "  <thead>\n",
       "    <tr style=\"text-align: right;\">\n",
       "      <th></th>\n",
       "      <th>account length</th>\n",
       "      <th>area code</th>\n",
       "      <th>number vmail messages</th>\n",
       "      <th>total day minutes</th>\n",
       "      <th>total day calls</th>\n",
       "      <th>total day charge</th>\n",
       "      <th>total eve minutes</th>\n",
       "      <th>total eve calls</th>\n",
       "      <th>total eve charge</th>\n",
       "      <th>total night minutes</th>\n",
       "      <th>total night calls</th>\n",
       "      <th>total night charge</th>\n",
       "      <th>total intl minutes</th>\n",
       "      <th>total intl calls</th>\n",
       "      <th>total intl charge</th>\n",
       "      <th>customer service calls</th>\n",
       "    </tr>\n",
       "  </thead>\n",
       "  <tbody>\n",
       "    <tr>\n",
       "      <th>count</th>\n",
       "      <td>3333.000000</td>\n",
       "      <td>3333.000000</td>\n",
       "      <td>3333.000000</td>\n",
       "      <td>3333.000000</td>\n",
       "      <td>3333.000000</td>\n",
       "      <td>3333.000000</td>\n",
       "      <td>3333.000000</td>\n",
       "      <td>3333.000000</td>\n",
       "      <td>3333.000000</td>\n",
       "      <td>3333.000000</td>\n",
       "      <td>3333.000000</td>\n",
       "      <td>3333.000000</td>\n",
       "      <td>3333.000000</td>\n",
       "      <td>3333.000000</td>\n",
       "      <td>3333.000000</td>\n",
       "      <td>3333.000000</td>\n",
       "    </tr>\n",
       "    <tr>\n",
       "      <th>mean</th>\n",
       "      <td>101.064806</td>\n",
       "      <td>437.182418</td>\n",
       "      <td>8.099010</td>\n",
       "      <td>179.775098</td>\n",
       "      <td>100.435644</td>\n",
       "      <td>30.562307</td>\n",
       "      <td>200.980348</td>\n",
       "      <td>100.114311</td>\n",
       "      <td>17.083540</td>\n",
       "      <td>200.872037</td>\n",
       "      <td>100.107711</td>\n",
       "      <td>9.039325</td>\n",
       "      <td>10.237294</td>\n",
       "      <td>4.479448</td>\n",
       "      <td>2.764581</td>\n",
       "      <td>1.562856</td>\n",
       "    </tr>\n",
       "    <tr>\n",
       "      <th>std</th>\n",
       "      <td>39.822106</td>\n",
       "      <td>42.371290</td>\n",
       "      <td>13.688365</td>\n",
       "      <td>54.467389</td>\n",
       "      <td>20.069084</td>\n",
       "      <td>9.259435</td>\n",
       "      <td>50.713844</td>\n",
       "      <td>19.922625</td>\n",
       "      <td>4.310668</td>\n",
       "      <td>50.573847</td>\n",
       "      <td>19.568609</td>\n",
       "      <td>2.275873</td>\n",
       "      <td>2.791840</td>\n",
       "      <td>2.461214</td>\n",
       "      <td>0.753773</td>\n",
       "      <td>1.315491</td>\n",
       "    </tr>\n",
       "    <tr>\n",
       "      <th>min</th>\n",
       "      <td>1.000000</td>\n",
       "      <td>408.000000</td>\n",
       "      <td>0.000000</td>\n",
       "      <td>0.000000</td>\n",
       "      <td>0.000000</td>\n",
       "      <td>0.000000</td>\n",
       "      <td>0.000000</td>\n",
       "      <td>0.000000</td>\n",
       "      <td>0.000000</td>\n",
       "      <td>23.200000</td>\n",
       "      <td>33.000000</td>\n",
       "      <td>1.040000</td>\n",
       "      <td>0.000000</td>\n",
       "      <td>0.000000</td>\n",
       "      <td>0.000000</td>\n",
       "      <td>0.000000</td>\n",
       "    </tr>\n",
       "    <tr>\n",
       "      <th>25%</th>\n",
       "      <td>74.000000</td>\n",
       "      <td>408.000000</td>\n",
       "      <td>0.000000</td>\n",
       "      <td>143.700000</td>\n",
       "      <td>87.000000</td>\n",
       "      <td>24.430000</td>\n",
       "      <td>166.600000</td>\n",
       "      <td>87.000000</td>\n",
       "      <td>14.160000</td>\n",
       "      <td>167.000000</td>\n",
       "      <td>87.000000</td>\n",
       "      <td>7.520000</td>\n",
       "      <td>8.500000</td>\n",
       "      <td>3.000000</td>\n",
       "      <td>2.300000</td>\n",
       "      <td>1.000000</td>\n",
       "    </tr>\n",
       "    <tr>\n",
       "      <th>50%</th>\n",
       "      <td>101.000000</td>\n",
       "      <td>415.000000</td>\n",
       "      <td>0.000000</td>\n",
       "      <td>179.400000</td>\n",
       "      <td>101.000000</td>\n",
       "      <td>30.500000</td>\n",
       "      <td>201.400000</td>\n",
       "      <td>100.000000</td>\n",
       "      <td>17.120000</td>\n",
       "      <td>201.200000</td>\n",
       "      <td>100.000000</td>\n",
       "      <td>9.050000</td>\n",
       "      <td>10.300000</td>\n",
       "      <td>4.000000</td>\n",
       "      <td>2.780000</td>\n",
       "      <td>1.000000</td>\n",
       "    </tr>\n",
       "    <tr>\n",
       "      <th>75%</th>\n",
       "      <td>127.000000</td>\n",
       "      <td>510.000000</td>\n",
       "      <td>20.000000</td>\n",
       "      <td>216.400000</td>\n",
       "      <td>114.000000</td>\n",
       "      <td>36.790000</td>\n",
       "      <td>235.300000</td>\n",
       "      <td>114.000000</td>\n",
       "      <td>20.000000</td>\n",
       "      <td>235.300000</td>\n",
       "      <td>113.000000</td>\n",
       "      <td>10.590000</td>\n",
       "      <td>12.100000</td>\n",
       "      <td>6.000000</td>\n",
       "      <td>3.270000</td>\n",
       "      <td>2.000000</td>\n",
       "    </tr>\n",
       "    <tr>\n",
       "      <th>max</th>\n",
       "      <td>243.000000</td>\n",
       "      <td>510.000000</td>\n",
       "      <td>51.000000</td>\n",
       "      <td>350.800000</td>\n",
       "      <td>165.000000</td>\n",
       "      <td>59.640000</td>\n",
       "      <td>363.700000</td>\n",
       "      <td>170.000000</td>\n",
       "      <td>30.910000</td>\n",
       "      <td>395.000000</td>\n",
       "      <td>175.000000</td>\n",
       "      <td>17.770000</td>\n",
       "      <td>20.000000</td>\n",
       "      <td>20.000000</td>\n",
       "      <td>5.400000</td>\n",
       "      <td>9.000000</td>\n",
       "    </tr>\n",
       "  </tbody>\n",
       "</table>\n",
       "</div>"
      ],
      "text/plain": [
       "       account length    area code  number vmail messages  total day minutes  \\\n",
       "count     3333.000000  3333.000000            3333.000000        3333.000000   \n",
       "mean       101.064806   437.182418               8.099010         179.775098   \n",
       "std         39.822106    42.371290              13.688365          54.467389   \n",
       "min          1.000000   408.000000               0.000000           0.000000   \n",
       "25%         74.000000   408.000000               0.000000         143.700000   \n",
       "50%        101.000000   415.000000               0.000000         179.400000   \n",
       "75%        127.000000   510.000000              20.000000         216.400000   \n",
       "max        243.000000   510.000000              51.000000         350.800000   \n",
       "\n",
       "       total day calls  total day charge  total eve minutes  total eve calls  \\\n",
       "count      3333.000000       3333.000000        3333.000000      3333.000000   \n",
       "mean        100.435644         30.562307         200.980348       100.114311   \n",
       "std          20.069084          9.259435          50.713844        19.922625   \n",
       "min           0.000000          0.000000           0.000000         0.000000   \n",
       "25%          87.000000         24.430000         166.600000        87.000000   \n",
       "50%         101.000000         30.500000         201.400000       100.000000   \n",
       "75%         114.000000         36.790000         235.300000       114.000000   \n",
       "max         165.000000         59.640000         363.700000       170.000000   \n",
       "\n",
       "       total eve charge  total night minutes  total night calls  \\\n",
       "count       3333.000000          3333.000000        3333.000000   \n",
       "mean          17.083540           200.872037         100.107711   \n",
       "std            4.310668            50.573847          19.568609   \n",
       "min            0.000000            23.200000          33.000000   \n",
       "25%           14.160000           167.000000          87.000000   \n",
       "50%           17.120000           201.200000         100.000000   \n",
       "75%           20.000000           235.300000         113.000000   \n",
       "max           30.910000           395.000000         175.000000   \n",
       "\n",
       "       total night charge  total intl minutes  total intl calls  \\\n",
       "count         3333.000000         3333.000000       3333.000000   \n",
       "mean             9.039325           10.237294          4.479448   \n",
       "std              2.275873            2.791840          2.461214   \n",
       "min              1.040000            0.000000          0.000000   \n",
       "25%              7.520000            8.500000          3.000000   \n",
       "50%              9.050000           10.300000          4.000000   \n",
       "75%             10.590000           12.100000          6.000000   \n",
       "max             17.770000           20.000000         20.000000   \n",
       "\n",
       "       total intl charge  customer service calls  \n",
       "count        3333.000000             3333.000000  \n",
       "mean            2.764581                1.562856  \n",
       "std             0.753773                1.315491  \n",
       "min             0.000000                0.000000  \n",
       "25%             2.300000                1.000000  \n",
       "50%             2.780000                1.000000  \n",
       "75%             3.270000                2.000000  \n",
       "max             5.400000                9.000000  "
      ]
     },
     "execution_count": 25,
     "metadata": {},
     "output_type": "execute_result"
    }
   ],
   "source": [
    "df_dropped.describe()\n",
    "\n",
    "#minmax: area code, total eve minutes\n",
    "#standard scaler the rest."
   ]
  },
  {
   "cell_type": "markdown",
   "id": "78121107",
   "metadata": {},
   "source": [
    "Scale and encode the data before modelling."
   ]
  },
  {
   "cell_type": "code",
   "execution_count": 26,
   "id": "be69723c",
   "metadata": {},
   "outputs": [
    {
     "name": "stdout",
     "output_type": "stream",
     "text": [
      "<class 'pandas.core.frame.DataFrame'>\n",
      "RangeIndex: 3333 entries, 0 to 3332\n",
      "Data columns (total 20 columns):\n",
      " #   Column                  Non-Null Count  Dtype  \n",
      "---  ------                  --------------  -----  \n",
      " 0   state                   3333 non-null   object \n",
      " 1   account length          3333 non-null   int64  \n",
      " 2   area code               3333 non-null   int64  \n",
      " 3   international plan      3333 non-null   object \n",
      " 4   voice mail plan         3333 non-null   object \n",
      " 5   number vmail messages   3333 non-null   int64  \n",
      " 6   total day minutes       3333 non-null   float64\n",
      " 7   total day calls         3333 non-null   int64  \n",
      " 8   total day charge        3333 non-null   float64\n",
      " 9   total eve minutes       3333 non-null   float64\n",
      " 10  total eve calls         3333 non-null   int64  \n",
      " 11  total eve charge        3333 non-null   float64\n",
      " 12  total night minutes     3333 non-null   float64\n",
      " 13  total night calls       3333 non-null   int64  \n",
      " 14  total night charge      3333 non-null   float64\n",
      " 15  total intl minutes      3333 non-null   float64\n",
      " 16  total intl calls        3333 non-null   int64  \n",
      " 17  total intl charge       3333 non-null   float64\n",
      " 18  customer service calls  3333 non-null   int64  \n",
      " 19  churn                   3333 non-null   bool   \n",
      "dtypes: bool(1), float64(8), int64(8), object(3)\n",
      "memory usage: 498.1+ KB\n"
     ]
    }
   ],
   "source": [
    "df_dropped.info()"
   ]
  },
  {
   "cell_type": "code",
   "execution_count": 28,
   "id": "c3044e6c",
   "metadata": {},
   "outputs": [],
   "source": [
    "from sklearn.preprocessing import StandardScaler, MinMaxScaler, LabelEncoder\n",
    "from category_encoders import MEstimateEncoder\n",
    "\n",
    "##insantiate the models\n",
    "le = LabelEncoder()\n",
    "scaler = StandardScaler()\n",
    "min_scaler = MinMaxScaler()\n",
    "me = MEstimateEncoder(cols='state')\n"
   ]
  },
  {
   "cell_type": "code",
   "execution_count": null,
   "id": "153524fa",
   "metadata": {},
   "outputs": [],
   "source": [
    "# !pip install category_encoders\n",
    "\n",
    "object_columns = ['churn', 'international plan', 'voice mail plan']\n",
    "\n",
    "for col in object_columns:\n",
    "    df_dropped[col] = le.fit_transform(df_dropped[col])\n",
    "\n"
   ]
  },
  {
   "cell_type": "code",
   "execution_count": 39,
   "id": "89727020",
   "metadata": {},
   "outputs": [
    {
     "data": {
      "image/png": "[encoded data removed]",
      "text/plain": [
       "<Figure size 800x400 with 2 Axes>"
      ]
     },
     "metadata": {},
     "output_type": "display_data"
    }
   ],
   "source": [
    "#\n",
    "X = df_dropped.drop('churn', axis=1)\n",
    "y = df_dropped['churn']\n",
    "\n",
    "X_train, X_test, y_train, y_test = train_test_split(X, y, random_state=42, test_size=0.2)\n",
    "\n",
    "X_train_d, X_test_d, y_train_d, y_test_d = train_test_split(X, y, random_state=42, test_size=0.2)\n",
    "\n",
    "\n",
    "\n",
    "X_train_d = me.fit_transform(X_train_d, y_train_d)\n",
    "X_test_d = me.transform(X_test_d)\n",
    "\n",
    "\n",
    "X_train_d = scaler.fit_transform(X_train_d)\n",
    "X_test_d = scaler.transform(X_test_d)\n",
    "\n",
    "knn.fit(X_train_d, y_train_d)\n",
    "\n",
    "y_preds_d = knn.predict(X_test_d)\n",
    "\n",
    "\n",
    "cm = confusion_matrix(y_test_d, y_preds_d)\n",
    "\n",
    "plt.figure(figsize=(8, 4))\n",
    "sns.heatmap(cm, annot=True, fmt='d', cmap='Blues', xticklabels=['No churn', 'churn'], yticklabels=['No churn', 'churn'])\n",
    "plt.title('Confusion matrix')\n",
    "plt.show()\n"
   ]
  },
  {
   "cell_type": "code",
   "execution_count": 37,
   "id": "d6bcd9e0",
   "metadata": {},
   "outputs": [
    {
     "data": {
      "application/vnd.microsoft.datawrangler.viewer.v0+json": {
       "columns": [
        {
         "name": "index",
         "rawType": "object",
         "type": "string"
        },
        {
         "name": "state",
         "rawType": "float64",
         "type": "float"
        },
        {
         "name": "account length",
         "rawType": "float64",
         "type": "float"
        },
        {
         "name": "area code",
         "rawType": "float64",
         "type": "float"
        },
        {
         "name": "international plan",
         "rawType": "float64",
         "type": "float"
        },
        {
         "name": "voice mail plan",
         "rawType": "float64",
         "type": "float"
        },
        {
         "name": "number vmail messages",
         "rawType": "float64",
         "type": "float"
        },
        {
         "name": "total day minutes",
         "rawType": "float64",
         "type": "float"
        },
        {
         "name": "total day calls",
         "rawType": "float64",
         "type": "float"
        },
        {
         "name": "total day charge",
         "rawType": "float64",
         "type": "float"
        },
        {
         "name": "total eve minutes",
         "rawType": "float64",
         "type": "float"
        },
        {
         "name": "total eve calls",
         "rawType": "float64",
         "type": "float"
        },
        {
         "name": "total eve charge",
         "rawType": "float64",
         "type": "float"
        },
        {
         "name": "total night minutes",
         "rawType": "float64",
         "type": "float"
        },
        {
         "name": "total night calls",
         "rawType": "float64",
         "type": "float"
        },
        {
         "name": "total night charge",
         "rawType": "float64",
         "type": "float"
        },
        {
         "name": "total intl minutes",
         "rawType": "float64",
         "type": "float"
        },
        {
         "name": "total intl calls",
         "rawType": "float64",
         "type": "float"
        },
        {
         "name": "total intl charge",
         "rawType": "float64",
         "type": "float"
        },
        {
         "name": "customer service calls",
         "rawType": "float64",
         "type": "float"
        }
       ],
       "ref": "e67e7b2d-1dd8-4005-a8da-99d0df330115",
       "rows": [
        [
         "count",
         "2666.0",
         "2666.0",
         "2666.0",
         "2666.0",
         "2666.0",
         "2666.0",
         "2666.0",
         "2666.0",
         "2666.0",
         "2666.0",
         "2666.0",
         "2666.0",
         "2666.0",
         "2666.0",
         "2666.0",
         "2666.0",
         "2666.0",
         "2666.0",
         "2666.0"
        ],
        [
         "mean",
         "0.14327151377463077",
         "98.63015753938484",
         "0.9936234058514629",
         "0.09639909977494374",
         "0.2719429857464366",
         "7.981245311327832",
         "179.60071267816954",
         "100.54276069017254",
         "30.53262940735184",
         "200.69849962490622",
         "99.96324081020255",
         "17.059598649662416",
         "200.52981995498874",
         "99.9118529632408",
         "9.023904726181545",
         "10.237546886721681",
         "4.450112528132033",
         "2.7646474118529634",
         "1.5731432858214554"
        ],
        [
         "std",
         "0.059029786066800406",
         "39.29112649362958",
         "0.7093298366931031",
         "0.295193154787389",
         "0.44504414492499605",
         "13.647217754724213",
         "54.35100385922073",
         "19.886484849145134",
         "9.239652870436984",
         "50.69327709828778",
         "20.082759331420352",
         "4.30891357090847",
         "50.71026043922204",
         "19.545034209967607",
         "2.281993142488412",
         "2.796936917203162",
         "2.4418079118789655",
         "0.7551627729974869",
         "1.3384537940562438"
        ],
        [
         "min",
         "0.043740526968476814",
         "0.0",
         "0.0",
         "0.0",
         "0.0",
         "0.0",
         "2.6",
         "30.0",
         "0.44",
         "0.0",
         "0.0",
         "0.0",
         "23.2",
         "33.0",
         "1.04",
         "0.0",
         "0.0",
         "0.0",
         "0.0"
        ],
        [
         "25%",
         "0.10352588147036759",
         "71.0",
         "0.0",
         "0.0",
         "0.0",
         "0.0",
         "143.2",
         "88.0",
         "24.34",
         "165.82500000000002",
         "87.0",
         "14.0925",
         "166.8",
         "86.0",
         "7.51",
         "8.5",
         "3.0",
         "2.3",
         "1.0"
        ],
        [
         "50%",
         "0.13349648887631746",
         "98.0",
         "1.0",
         "0.0",
         "0.0",
         "0.0",
         "179.2",
         "101.0",
         "30.46",
         "200.85000000000002",
         "100.0",
         "17.075",
         "200.85000000000002",
         "100.0",
         "9.04",
         "10.3",
         "4.0",
         "2.78",
         "1.0"
        ],
        [
         "75%",
         "0.1850746777603492",
         "125.0",
         "1.0",
         "0.0",
         "1.0",
         "19.0",
         "216.275",
         "114.0",
         "36.765",
         "234.64999999999998",
         "113.0",
         "19.945",
         "235.4",
         "113.0",
         "10.59",
         "12.0",
         "6.0",
         "3.24",
         "2.0"
        ],
        [
         "max",
         "0.26905476369092274",
         "211.0",
         "2.0",
         "1.0",
         "1.0",
         "51.0",
         "350.8",
         "165.0",
         "59.64",
         "363.7",
         "170.0",
         "30.91",
         "395.0",
         "175.0",
         "17.77",
         "20.0",
         "19.0",
         "5.4",
         "9.0"
        ]
       ],
       "shape": {
        "columns": 19,
        "rows": 8
       }
      },
      "text/html": [
       "<div>\n",
       "<style scoped>\n",
       "    .dataframe tbody tr th:only-of-type {\n",
       "        vertical-align: middle;\n",
       "    }\n",
       "\n",
       "    .dataframe tbody tr th {\n",
       "        vertical-align: top;\n",
       "    }\n",
       "\n",
       "    .dataframe thead th {\n",
       "        text-align: right;\n",
       "    }\n",
       "</style>\n",
       "<table border=\"1\" class=\"dataframe\">\n",
       "  <thead>\n",
       "    <tr style=\"text-align: right;\">\n",
       "      <th></th>\n",
       "      <th>state</th>\n",
       "      <th>account length</th>\n",
       "      <th>area code</th>\n",
       "      <th>international plan</th>\n",
       "      <th>voice mail plan</th>\n",
       "      <th>number vmail messages</th>\n",
       "      <th>total day minutes</th>\n",
       "      <th>total day calls</th>\n",
       "      <th>total day charge</th>\n",
       "      <th>total eve minutes</th>\n",
       "      <th>total eve calls</th>\n",
       "      <th>total eve charge</th>\n",
       "      <th>total night minutes</th>\n",
       "      <th>total night calls</th>\n",
       "      <th>total night charge</th>\n",
       "      <th>total intl minutes</th>\n",
       "      <th>total intl calls</th>\n",
       "      <th>total intl charge</th>\n",
       "      <th>customer service calls</th>\n",
       "    </tr>\n",
       "  </thead>\n",
       "  <tbody>\n",
       "    <tr>\n",
       "      <th>count</th>\n",
       "      <td>2666.000000</td>\n",
       "      <td>2666.000000</td>\n",
       "      <td>2666.000000</td>\n",
       "      <td>2666.000000</td>\n",
       "      <td>2666.000000</td>\n",
       "      <td>2666.000000</td>\n",
       "      <td>2666.000000</td>\n",
       "      <td>2666.000000</td>\n",
       "      <td>2666.000000</td>\n",
       "      <td>2666.000000</td>\n",
       "      <td>2666.000000</td>\n",
       "      <td>2666.000000</td>\n",
       "      <td>2666.00000</td>\n",
       "      <td>2666.000000</td>\n",
       "      <td>2666.000000</td>\n",
       "      <td>2666.000000</td>\n",
       "      <td>2666.000000</td>\n",
       "      <td>2666.000000</td>\n",
       "      <td>2666.000000</td>\n",
       "    </tr>\n",
       "    <tr>\n",
       "      <th>mean</th>\n",
       "      <td>0.143272</td>\n",
       "      <td>98.630158</td>\n",
       "      <td>0.993623</td>\n",
       "      <td>0.096399</td>\n",
       "      <td>0.271943</td>\n",
       "      <td>7.981245</td>\n",
       "      <td>179.600713</td>\n",
       "      <td>100.542761</td>\n",
       "      <td>30.532629</td>\n",
       "      <td>200.698500</td>\n",
       "      <td>99.963241</td>\n",
       "      <td>17.059599</td>\n",
       "      <td>200.52982</td>\n",
       "      <td>99.911853</td>\n",
       "      <td>9.023905</td>\n",
       "      <td>10.237547</td>\n",
       "      <td>4.450113</td>\n",
       "      <td>2.764647</td>\n",
       "      <td>1.573143</td>\n",
       "    </tr>\n",
       "    <tr>\n",
       "      <th>std</th>\n",
       "      <td>0.059030</td>\n",
       "      <td>39.291126</td>\n",
       "      <td>0.709330</td>\n",
       "      <td>0.295193</td>\n",
       "      <td>0.445044</td>\n",
       "      <td>13.647218</td>\n",
       "      <td>54.351004</td>\n",
       "      <td>19.886485</td>\n",
       "      <td>9.239653</td>\n",
       "      <td>50.693277</td>\n",
       "      <td>20.082759</td>\n",
       "      <td>4.308914</td>\n",
       "      <td>50.71026</td>\n",
       "      <td>19.545034</td>\n",
       "      <td>2.281993</td>\n",
       "      <td>2.796937</td>\n",
       "      <td>2.441808</td>\n",
       "      <td>0.755163</td>\n",
       "      <td>1.338454</td>\n",
       "    </tr>\n",
       "    <tr>\n",
       "      <th>min</th>\n",
       "      <td>0.043741</td>\n",
       "      <td>0.000000</td>\n",
       "      <td>0.000000</td>\n",
       "      <td>0.000000</td>\n",
       "      <td>0.000000</td>\n",
       "      <td>0.000000</td>\n",
       "      <td>2.600000</td>\n",
       "      <td>30.000000</td>\n",
       "      <td>0.440000</td>\n",
       "      <td>0.000000</td>\n",
       "      <td>0.000000</td>\n",
       "      <td>0.000000</td>\n",
       "      <td>23.20000</td>\n",
       "      <td>33.000000</td>\n",
       "      <td>1.040000</td>\n",
       "      <td>0.000000</td>\n",
       "      <td>0.000000</td>\n",
       "      <td>0.000000</td>\n",
       "      <td>0.000000</td>\n",
       "    </tr>\n",
       "    <tr>\n",
       "      <th>25%</th>\n",
       "      <td>0.103526</td>\n",
       "      <td>71.000000</td>\n",
       "      <td>0.000000</td>\n",
       "      <td>0.000000</td>\n",
       "      <td>0.000000</td>\n",
       "      <td>0.000000</td>\n",
       "      <td>143.200000</td>\n",
       "      <td>88.000000</td>\n",
       "      <td>24.340000</td>\n",
       "      <td>165.825000</td>\n",
       "      <td>87.000000</td>\n",
       "      <td>14.092500</td>\n",
       "      <td>166.80000</td>\n",
       "      <td>86.000000</td>\n",
       "      <td>7.510000</td>\n",
       "      <td>8.500000</td>\n",
       "      <td>3.000000</td>\n",
       "      <td>2.300000</td>\n",
       "      <td>1.000000</td>\n",
       "    </tr>\n",
       "    <tr>\n",
       "      <th>50%</th>\n",
       "      <td>0.133496</td>\n",
       "      <td>98.000000</td>\n",
       "      <td>1.000000</td>\n",
       "      <td>0.000000</td>\n",
       "      <td>0.000000</td>\n",
       "      <td>0.000000</td>\n",
       "      <td>179.200000</td>\n",
       "      <td>101.000000</td>\n",
       "      <td>30.460000</td>\n",
       "      <td>200.850000</td>\n",
       "      <td>100.000000</td>\n",
       "      <td>17.075000</td>\n",
       "      <td>200.85000</td>\n",
       "      <td>100.000000</td>\n",
       "      <td>9.040000</td>\n",
       "      <td>10.300000</td>\n",
       "      <td>4.000000</td>\n",
       "      <td>2.780000</td>\n",
       "      <td>1.000000</td>\n",
       "    </tr>\n",
       "    <tr>\n",
       "      <th>75%</th>\n",
       "      <td>0.185075</td>\n",
       "      <td>125.000000</td>\n",
       "      <td>1.000000</td>\n",
       "      <td>0.000000</td>\n",
       "      <td>1.000000</td>\n",
       "      <td>19.000000</td>\n",
       "      <td>216.275000</td>\n",
       "      <td>114.000000</td>\n",
       "      <td>36.765000</td>\n",
       "      <td>234.650000</td>\n",
       "      <td>113.000000</td>\n",
       "      <td>19.945000</td>\n",
       "      <td>235.40000</td>\n",
       "      <td>113.000000</td>\n",
       "      <td>10.590000</td>\n",
       "      <td>12.000000</td>\n",
       "      <td>6.000000</td>\n",
       "      <td>3.240000</td>\n",
       "      <td>2.000000</td>\n",
       "    </tr>\n",
       "    <tr>\n",
       "      <th>max</th>\n",
       "      <td>0.269055</td>\n",
       "      <td>211.000000</td>\n",
       "      <td>2.000000</td>\n",
       "      <td>1.000000</td>\n",
       "      <td>1.000000</td>\n",
       "      <td>51.000000</td>\n",
       "      <td>350.800000</td>\n",
       "      <td>165.000000</td>\n",
       "      <td>59.640000</td>\n",
       "      <td>363.700000</td>\n",
       "      <td>170.000000</td>\n",
       "      <td>30.910000</td>\n",
       "      <td>395.00000</td>\n",
       "      <td>175.000000</td>\n",
       "      <td>17.770000</td>\n",
       "      <td>20.000000</td>\n",
       "      <td>19.000000</td>\n",
       "      <td>5.400000</td>\n",
       "      <td>9.000000</td>\n",
       "    </tr>\n",
       "  </tbody>\n",
       "</table>\n",
       "</div>"
      ],
      "text/plain": [
       "             state  account length    area code  international plan  \\\n",
       "count  2666.000000     2666.000000  2666.000000         2666.000000   \n",
       "mean      0.143272       98.630158     0.993623            0.096399   \n",
       "std       0.059030       39.291126     0.709330            0.295193   \n",
       "min       0.043741        0.000000     0.000000            0.000000   \n",
       "25%       0.103526       71.000000     0.000000            0.000000   \n",
       "50%       0.133496       98.000000     1.000000            0.000000   \n",
       "75%       0.185075      125.000000     1.000000            0.000000   \n",
       "max       0.269055      211.000000     2.000000            1.000000   \n",
       "\n",
       "       voice mail plan  number vmail messages  total day minutes  \\\n",
       "count      2666.000000            2666.000000        2666.000000   \n",
       "mean          0.271943               7.981245         179.600713   \n",
       "std           0.445044              13.647218          54.351004   \n",
       "min           0.000000               0.000000           2.600000   \n",
       "25%           0.000000               0.000000         143.200000   \n",
       "50%           0.000000               0.000000         179.200000   \n",
       "75%           1.000000              19.000000         216.275000   \n",
       "max           1.000000              51.000000         350.800000   \n",
       "\n",
       "       total day calls  total day charge  total eve minutes  total eve calls  \\\n",
       "count      2666.000000       2666.000000        2666.000000      2666.000000   \n",
       "mean        100.542761         30.532629         200.698500        99.963241   \n",
       "std          19.886485          9.239653          50.693277        20.082759   \n",
       "min          30.000000          0.440000           0.000000         0.000000   \n",
       "25%          88.000000         24.340000         165.825000        87.000000   \n",
       "50%         101.000000         30.460000         200.850000       100.000000   \n",
       "75%         114.000000         36.765000         234.650000       113.000000   \n",
       "max         165.000000         59.640000         363.700000       170.000000   \n",
       "\n",
       "       total eve charge  total night minutes  total night calls  \\\n",
       "count       2666.000000           2666.00000        2666.000000   \n",
       "mean          17.059599            200.52982          99.911853   \n",
       "std            4.308914             50.71026          19.545034   \n",
       "min            0.000000             23.20000          33.000000   \n",
       "25%           14.092500            166.80000          86.000000   \n",
       "50%           17.075000            200.85000         100.000000   \n",
       "75%           19.945000            235.40000         113.000000   \n",
       "max           30.910000            395.00000         175.000000   \n",
       "\n",
       "       total night charge  total intl minutes  total intl calls  \\\n",
       "count         2666.000000         2666.000000       2666.000000   \n",
       "mean             9.023905           10.237547          4.450113   \n",
       "std              2.281993            2.796937          2.441808   \n",
       "min              1.040000            0.000000          0.000000   \n",
       "25%              7.510000            8.500000          3.000000   \n",
       "50%              9.040000           10.300000          4.000000   \n",
       "75%             10.590000           12.000000          6.000000   \n",
       "max             17.770000           20.000000         19.000000   \n",
       "\n",
       "       total intl charge  customer service calls  \n",
       "count        2666.000000             2666.000000  \n",
       "mean            2.764647                1.573143  \n",
       "std             0.755163                1.338454  \n",
       "min             0.000000                0.000000  \n",
       "25%             2.300000                1.000000  \n",
       "50%             2.780000                1.000000  \n",
       "75%             3.240000                2.000000  \n",
       "max             5.400000                9.000000  "
      ]
     },
     "execution_count": 37,
     "metadata": {},
     "output_type": "execute_result"
    }
   ],
   "source": [
    "X_train_d.describe()\n"
   ]
  },
  {
   "cell_type": "markdown",
   "id": "1e876ce0",
   "metadata": {},
   "source": [
    "#### Pipelines \n",
    "Brief intro"
   ]
  },
  {
   "cell_type": "code",
   "execution_count": 48,
   "id": "aa9d60bb",
   "metadata": {},
   "outputs": [
    {
     "data": {
      "image/png": "[encoded data removed]",
      "text/plain": [
       "<Figure size 800x400 with 2 Axes>"
      ]
     },
     "metadata": {},
     "output_type": "display_data"
    }
   ],
   "source": [
    "from sklearn.pipeline import Pipeline\n",
    "\n",
    "df = pd.read_csv('./data/churn.csv')\n",
    "\n",
    "df = df.drop('phone number', axis=1)\n",
    "\n",
    "\n",
    "object_columns = ['churn', 'international plan', 'voice mail plan']\n",
    "\n",
    "for col in object_columns:\n",
    "    df[col] = le.fit_transform(df[col])\n",
    "\n",
    "\n",
    "X = df.drop('churn', axis=1)\n",
    "y = df['churn']\n",
    "\n",
    "\n",
    "\n",
    "X_train, X_test, y_train, y_test = train_test_split(X, y, test_size=0.2, random_state=42)\n",
    "\n",
    "\n",
    "pipe = Pipeline([\n",
    "    ('MEncoder', me),\n",
    "    ('scaler', scaler),\n",
    "    ('knn', knn)\n",
    "])\n",
    "\n",
    "\n",
    "pipe.fit(X_train, y_train)\n",
    "\n",
    "y_preds = pipe.predict(X_test)\n",
    "\n",
    "cm = confusion_matrix(y_test, y_preds)\n",
    "\n",
    "plt.figure(figsize=(8, 4))\n",
    "sns.heatmap(cm, annot=True, fmt='d', cmap='Blues', xticklabels=['No churn', 'churn'], yticklabels=['No churn', 'churn'])\n",
    "plt.title('Confusion matrix')\n",
    "plt.show()"
   ]
  },
  {
   "cell_type": "code",
   "execution_count": null,
   "id": "9f017828",
   "metadata": {},
   "outputs": [],
   "source": []
  }
 ],
 "metadata": {
  "kernelspec": {
   "display_name": "base",
   "language": "python",
   "name": "python3"
  },
  "language_info": {
   "codemirror_mode": {
    "name": "ipython",
    "version": 3
   },
   "file_extension": ".py",
   "mimetype": "text/x-python",
   "name": "python",
   "nbconvert_exporter": "python",
   "pygments_lexer": "ipython3",
   "version": "3.12.7"
  }
 },
 "nbformat": 4,
 "nbformat_minor": 5
}
